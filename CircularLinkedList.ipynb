{
 "cells": [
  {
   "cell_type": "code",
   "execution_count": 12,
   "metadata": {},
   "outputs": [],
   "source": [
    "class Node:\n",
    "    def __init__(self, val = None):\n",
    "        self.val = val\n",
    "        self.next = None"
   ]
  },
  {
   "cell_type": "code",
   "execution_count": 13,
   "metadata": {},
   "outputs": [],
   "source": [
    "class CircularList:\n",
    "    def __init__(self):\n",
    "        self.head = None\n",
    "        \n",
    "    def insert(self, val):\n",
    "        node = Node(val)\n",
    "        \n",
    "        if self.head is None:\n",
    "            node.next = node\n",
    "        else:\n",
    "            curr = self.head\n",
    "            node.next = self.head\n",
    "            \n",
    "            while curr.next != self.head:\n",
    "                curr = curr.next\n",
    "            \n",
    "            curr.next = node\n",
    "            \n",
    "        self.head = node\n",
    "        \n",
    "    \n",
    "    def print_list(self):\n",
    "        if self.head is not None:\n",
    "            curr = self.head\n",
    "            while True:\n",
    "                print(curr.val)\n",
    "                curr = curr.next\n",
    "                if curr == self.head:\n",
    "                    return"
   ]
  }
 ],
 "metadata": {
  "kernelspec": {
   "display_name": "Python 3",
   "language": "python",
   "name": "python3"
  },
  "language_info": {
   "codemirror_mode": {
    "name": "ipython",
    "version": 3
   },
   "file_extension": ".py",
   "mimetype": "text/x-python",
   "name": "python",
   "nbconvert_exporter": "python",
   "pygments_lexer": "ipython3",
   "version": "3.7.3"
  }
 },
 "nbformat": 4,
 "nbformat_minor": 2
}
