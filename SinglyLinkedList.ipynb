{
 "cells": [
  {
   "cell_type": "code",
   "execution_count": 20,
   "metadata": {},
   "outputs": [],
   "source": [
    "class Node:\n",
    "    def __init__(self, val = None, next = None):\n",
    "        self.val = val\n",
    "        self.next = next"
   ]
  },
  {
   "cell_type": "code",
   "execution_count": 21,
   "metadata": {},
   "outputs": [],
   "source": [
    "class List:\n",
    "    def __init__(self, head):\n",
    "        self.head = head\n",
    "      \n",
    "    # Time: O(1)\n",
    "    def insert(self, val):\n",
    "        node = Node(val)\n",
    "        node.next = self.head\n",
    "        self.head = node\n",
    "      \n",
    "    # Time: O(n)\n",
    "    def search(self, val):\n",
    "        curr = self.head\n",
    "        while curr and curr.val != val:\n",
    "            curr = curr.next\n",
    "        return curr\n",
    "    \n",
    "    # Time: O(n)\n",
    "    def delete(self, val):\n",
    "        prev = None\n",
    "        curr = self.head\n",
    "        while curr and curr.val != val:\n",
    "            prev = curr\n",
    "            curr = curr.next\n",
    "            \n",
    "        if prev is None:\n",
    "            self.head = self.head.next\n",
    "        else:\n",
    "            prev.next = curr.next"
   ]
  }
 ],
 "metadata": {
  "kernelspec": {
   "display_name": "Python 3",
   "language": "python",
   "name": "python3"
  },
  "language_info": {
   "codemirror_mode": {
    "name": "ipython",
    "version": 3
   },
   "file_extension": ".py",
   "mimetype": "text/x-python",
   "name": "python",
   "nbconvert_exporter": "python",
   "pygments_lexer": "ipython3",
   "version": "3.7.3"
  }
 },
 "nbformat": 4,
 "nbformat_minor": 2
}
