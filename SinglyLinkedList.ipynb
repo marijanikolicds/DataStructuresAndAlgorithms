{
 "cells": [
  {
   "cell_type": "markdown",
   "metadata": {},
   "source": [
    "# Linked lists\n",
    "\n",
    "A singly linked list is a data structure that contains a sequence of nodes such that each node such that each node contains an object and a reference to the next node in the list. The first node is refered to as the _head_, and the last node is refered to as the _tail_.\n"
   ]
  },
  {
   "cell_type": "code",
   "execution_count": 31,
   "metadata": {},
   "outputs": [],
   "source": [
    "# List node\n",
    "class Node:\n",
    "    def __init__(self, val = None, next = None):\n",
    "        self.val = val\n",
    "        self.next = next"
   ]
  },
  {
   "cell_type": "code",
   "execution_count": 32,
   "metadata": {},
   "outputs": [],
   "source": [
    "class List:\n",
    "    def __init__(self, head = None):\n",
    "        self.head = head\n",
    "        \n",
    "    # Insert new node; this newly inserted node becomes the head\n",
    "    # Time: O(1)\n",
    "    def insert(self, val):\n",
    "        node = Node(val)\n",
    "        node.next = self.head\n",
    "        self.head = node\n",
    "      \n",
    "    # Search the list for a node with specific value\n",
    "    # Time: O(n), n - number of nodes in the list\n",
    "    def search(self, val):\n",
    "        if self.head is None:\n",
    "            raise IndexError('search(): empty list')\n",
    "            \n",
    "        curr = self.head\n",
    "        while curr and curr.val != val:\n",
    "            curr = curr.next\n",
    "        return curr\n",
    "    \n",
    "    # Delete the node with specific value\n",
    "    # Time: O(n), n - number of nodes in the list\n",
    "    def delete(self, val):\n",
    "        if self.head is None:\n",
    "            raise IndexError('delete(): empty list')\n",
    "            \n",
    "        prev = None\n",
    "        curr = self.head\n",
    "        while curr and curr.val != val:\n",
    "            prev = curr\n",
    "            curr = curr.next\n",
    "            \n",
    "        if prev is None:\n",
    "            self.head = self.head.next\n",
    "        else:\n",
    "            prev.next = curr.next"
   ]
  },
  {
   "cell_type": "code",
   "execution_count": 33,
   "metadata": {},
   "outputs": [
    {
     "name": "stderr",
     "output_type": "stream",
     "text": [
      "test_delete (__main__.TestList) ... ok\n",
      "test_empty_list (__main__.TestList) ... ok\n",
      "test_insert (__main__.TestList) ... ok\n",
      "test_search (__main__.TestList) ... ok\n",
      "\n",
      "----------------------------------------------------------------------\n",
      "Ran 4 tests in 0.002s\n",
      "\n",
      "OK\n"
     ]
    }
   ],
   "source": [
    "import unittest\n",
    "\n",
    "class TestList(unittest.TestCase):\n",
    "    \n",
    "    def test_insert(self):\n",
    "        linked_list = List()\n",
    "        \n",
    "        linked_list.insert(1)\n",
    "        self.assertEqual(linked_list.head.val, 1)\n",
    "        \n",
    "        linked_list.insert(2)\n",
    "        self.assertEqual(linked_list.head.val, 2)\n",
    "        \n",
    "        linked_list.insert(3)\n",
    "        self.assertEqual(linked_list.head.val, 3)\n",
    "\n",
    "        \n",
    "    def test_search(self):\n",
    "        linked_list = List()\n",
    "        linked_list.insert(1)\n",
    "        linked_list.insert(2)\n",
    "        linked_list.insert(3)\n",
    "        \n",
    "        self.assertEqual(linked_list.search(1).val, 1)\n",
    "        self.assertEqual(linked_list.search(2).val, 2)\n",
    "        self.assertEqual(linked_list.search(3).val, 3)\n",
    "        self.assertEqual(linked_list.search(4), None)\n",
    "        \n",
    "    def test_delete(self):\n",
    "        linked_list = List()\n",
    "        linked_list.insert(1)\n",
    "        linked_list.insert(2)\n",
    "        linked_list.insert(3)\n",
    "        \n",
    "        linked_list.delete(3)\n",
    "        self.assertEqual(linked_list.head.val, 2)\n",
    "        linked_list.delete(2)\n",
    "        self.assertEqual(linked_list.head.val, 1)\n",
    "        linked_list.delete(1)\n",
    "        self.assertEqual(linked_list.head, None)\n",
    "        \n",
    "    def test_empty_list(self):\n",
    "        linked_list = List()\n",
    "        self.assertRaises(IndexError, linked_list.delete, 1)\n",
    "        self.assertRaises(IndexError, linked_list.search, 1)\n",
    "\n",
    "\n",
    "unittest.main(argv=[''], verbosity=2, exit=False);"
   ]
  }
 ],
 "metadata": {
  "kernelspec": {
   "display_name": "Python 3",
   "language": "python",
   "name": "python3"
  },
  "language_info": {
   "codemirror_mode": {
    "name": "ipython",
    "version": 3
   },
   "file_extension": ".py",
   "mimetype": "text/x-python",
   "name": "python",
   "nbconvert_exporter": "python",
   "pygments_lexer": "ipython3",
   "version": "3.7.3"
  }
 },
 "nbformat": 4,
 "nbformat_minor": 2
}
