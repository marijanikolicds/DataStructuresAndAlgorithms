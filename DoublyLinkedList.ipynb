{
 "cells": [
  {
   "cell_type": "code",
   "execution_count": 4,
   "metadata": {},
   "outputs": [],
   "source": [
    "class Node:\n",
    "    def __init__(self, val = None, prev = None, next = None):\n",
    "        self.val = val\n",
    "        self.prev = prev\n",
    "        self.next = next"
   ]
  },
  {
   "cell_type": "code",
   "execution_count": 33,
   "metadata": {},
   "outputs": [],
   "source": [
    "class DLList:\n",
    "    def __init__(self):\n",
    "        self.head = Node()\n",
    "        self.tail = Node()\n",
    "        \n",
    "        self.head.next = self.tail\n",
    "        self.tail.prev = self.head\n",
    "        \n",
    "    def insert(self, val):\n",
    "        node = Node(val)\n",
    "        node.prev = self.head\n",
    "        node.next = self.head.next\n",
    "        \n",
    "        self.head.next.prev = node\n",
    "        self.head.next = node\n",
    "        \n",
    "    def delete(self, node):\n",
    "        node.prev.next = node.next\n",
    "        node.next.prev = node.prev\n",
    "        \n",
    "    def move_to_head(self, node):\n",
    "        self.delete(node)\n",
    "        self.insert(node.val)\n",
    "        \n",
    "    def delete_tail(self):\n",
    "        self.delete(self.tail.prev)\n",
    "        \n",
    "    def __iter__(self):\n",
    "        return self\n",
    "    \n",
    "    def __next__(self):\n",
    "        node = self.head\n",
    "        if node is None:\n",
    "            raise StopIteration()\n",
    "            \n",
    "        while node.val == None:\n",
    "            self.head = self.head.next\n",
    "            node = self.head\n",
    "            if node is None:\n",
    "                raise StopIteration()\n",
    "            \n",
    "        self.head = self.head.next\n",
    "        return node.val"
   ]
  }
 ],
 "metadata": {
  "kernelspec": {
   "display_name": "Python 3",
   "language": "python",
   "name": "python3"
  },
  "language_info": {
   "codemirror_mode": {
    "name": "ipython",
    "version": 3
   },
   "file_extension": ".py",
   "mimetype": "text/x-python",
   "name": "python",
   "nbconvert_exporter": "python",
   "pygments_lexer": "ipython3",
   "version": "3.7.3"
  }
 },
 "nbformat": 4,
 "nbformat_minor": 2
}
