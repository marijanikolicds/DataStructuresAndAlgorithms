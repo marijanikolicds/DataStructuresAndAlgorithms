{
 "cells": [
  {
   "cell_type": "code",
   "execution_count": 32,
   "metadata": {},
   "outputs": [],
   "source": [
    "class UnionFind:\n",
    "    # Space: O(N)\n",
    "    def __init__(self, N):\n",
    "        self.id = [i for i in range(N)]\n",
    "        self.size = [1] * N\n",
    "    \n",
    "    # Time: O(logN)\n",
    "    def root(self, i):\n",
    "        while i != self.id[i]:\n",
    "            i = self.id[i]\n",
    "        return i\n",
    "      \n",
    "    # Time: O(logN)\n",
    "    def find(self, p, q):      \n",
    "        return self.id[p] == self.id[q]\n",
    "    \n",
    "    # Time: O(logN)\n",
    "    def union(self, p, q):\n",
    "        i = self.root(p)\n",
    "        j = self.root(q)\n",
    "\n",
    "        if i == j:\n",
    "            return\n",
    "        \n",
    "        if self.size[i] < self.size[j]:\n",
    "            self.id[i] = j\n",
    "            self.size[j] += self.size[i]\n",
    "        else:\n",
    "            self.id[j] = i\n",
    "            self.size[i] += self.size[j]"
   ]
  }
 ],
 "metadata": {
  "kernelspec": {
   "display_name": "Python 3",
   "language": "python",
   "name": "python3"
  },
  "language_info": {
   "codemirror_mode": {
    "name": "ipython",
    "version": 3
   },
   "file_extension": ".py",
   "mimetype": "text/x-python",
   "name": "python",
   "nbconvert_exporter": "python",
   "pygments_lexer": "ipython3",
   "version": "3.7.3"
  }
 },
 "nbformat": 4,
 "nbformat_minor": 2
}
