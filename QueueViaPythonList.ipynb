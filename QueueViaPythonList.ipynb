{
 "cells": [
  {
   "cell_type": "code",
   "execution_count": 6,
   "metadata": {},
   "outputs": [],
   "source": [
    "class Queue:\n",
    "    def __init__(self):\n",
    "        self.data = []\n",
    "        self.idx = 0\n",
    "     \n",
    "    # Time: O(1)\n",
    "    def add(self, val):\n",
    "        self.data.append(val)\n",
    "        \n",
    "    # Time: O(1)\n",
    "    def delete(self):\n",
    "        if len(self.data) == 0:\n",
    "            raise IndexError('delete(): empty queue')\n",
    "        val = self.data[0]\n",
    "        self.data.pop(0)\n",
    "        return val\n",
    "    \n",
    "    def __iter__(self):\n",
    "        return self\n",
    "    \n",
    "    def __next__(self):\n",
    "        if self.idx == len(self.data):\n",
    "            raise StopIteration()\n",
    "        val = self.data[self.idx]\n",
    "        self.idx += 1\n",
    "        return val"
   ]
  }
 ],
 "metadata": {
  "kernelspec": {
   "display_name": "Python 3",
   "language": "python",
   "name": "python3"
  },
  "language_info": {
   "codemirror_mode": {
    "name": "ipython",
    "version": 3
   },
   "file_extension": ".py",
   "mimetype": "text/x-python",
   "name": "python",
   "nbconvert_exporter": "python",
   "pygments_lexer": "ipython3",
   "version": "3.7.3"
  }
 },
 "nbformat": 4,
 "nbformat_minor": 2
}
