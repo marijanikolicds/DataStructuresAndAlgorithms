{
 "cells": [
  {
   "cell_type": "markdown",
   "metadata": {},
   "source": [
    "# Binary Tree\n",
    "\n",
    "Formally, binary tree is either empty or a root node with a left binary tree (_left child_) and right binary tree (_right child_). A node without child nodes is called a _leaf_.\n",
    "The sequence of nodes from the root to a given node is called _search path_.\n",
    "The _depth_ of a node is the number of nodes on the search path from the root to that node, not including the node itself.\n",
    "The _height_ of a binary tree is the maximum depth of any node in that tree.\n",
    "\n",
    "A key computation is traversing all the nodes in the tree:\n",
    "* _inorder_: traverse the left subtree -> visit the root -> traverse the right subtree\n",
    "* _preorder_: visit the root -> traverse the left subtree -> traverse the right subtree\n",
    "* _postorder_: traverse the left subtree -> traverse the right subtree -> visit the root\n",
    "\n",
    "The time complexity of each traversal is _O(n)_, where n is the number of nodes.   \n",
    "The space complexity is _O(h)_, where h is the the height of the tree. The height can go from _log(n)_ for balanced trees, to _n_ for skewed trees."
   ]
  },
  {
   "cell_type": "code",
   "execution_count": 47,
   "metadata": {},
   "outputs": [],
   "source": [
    "class Node:\n",
    "    def __init__(self, val = None, left = None, right = None):\n",
    "        self.val = val\n",
    "        self.left = left\n",
    "        self.right = right"
   ]
  },
  {
   "cell_type": "code",
   "execution_count": 48,
   "metadata": {},
   "outputs": [],
   "source": [
    "# left -> root -> right\n",
    "def inorder(node, ans):\n",
    "    if node is None:\n",
    "        return\n",
    "    \n",
    "    inorder(node.left, ans)\n",
    "    ans.append(node.val)\n",
    "    inorder(node.right, ans)"
   ]
  },
  {
   "cell_type": "code",
   "execution_count": 49,
   "metadata": {},
   "outputs": [],
   "source": [
    "# root -> left -> right\n",
    "# top -> down\n",
    "def preorder(node, ans):\n",
    "    if node is None:\n",
    "        return\n",
    "    \n",
    "    ans.append(node.val)\n",
    "    preorder(node.left, ans)\n",
    "    preorder(node.right, ans)"
   ]
  },
  {
   "cell_type": "code",
   "execution_count": 50,
   "metadata": {},
   "outputs": [],
   "source": [
    "# left -> right -> root\n",
    "# bottom -> up\n",
    "def postorder(node, ans):\n",
    "    if node is None:\n",
    "        return\n",
    "    \n",
    "    postorder(node.left, ans)\n",
    "    postorder(node.right, ans)\n",
    "    ans.append(node.val)"
   ]
  },
  {
   "cell_type": "code",
   "execution_count": 51,
   "metadata": {},
   "outputs": [],
   "source": [
    "def levelorder(node):\n",
    "    q = [node]\n",
    "    ans = []\n",
    "    \n",
    "    while q:\n",
    "        n = q.pop(0)\n",
    "        ans.append(n.val)\n",
    "        if n.left:\n",
    "            q.append(n.left)\n",
    "        if n.right:\n",
    "            q.append(n.right)\n",
    "    return ans"
   ]
  },
  {
   "cell_type": "code",
   "execution_count": 52,
   "metadata": {},
   "outputs": [],
   "source": [
    "def preorder_iter(node):\n",
    "    ans = []\n",
    "    stack = [node]\n",
    "    \n",
    "    while stack:\n",
    "        n = stack.pop()\n",
    "        ans.append(n.val)\n",
    "        if n.right:\n",
    "            stack.append(n.right)\n",
    "        if n.left:\n",
    "            stack.append(n.left)  \n",
    "            \n",
    "    return ans"
   ]
  },
  {
   "cell_type": "code",
   "execution_count": 53,
   "metadata": {},
   "outputs": [],
   "source": [
    "def postorder_iter(node):\n",
    "    ans = []\n",
    "    stack = [node]\n",
    "    \n",
    "    while stack:\n",
    "        n = stack.pop()\n",
    "        ans.append(n.val)\n",
    "        if n.left:\n",
    "            stack.append(n.left)\n",
    "        if n.right:\n",
    "            stack.append(n.right)  \n",
    "            \n",
    "    return ans[::-1]"
   ]
  },
  {
   "cell_type": "code",
   "execution_count": 54,
   "metadata": {},
   "outputs": [],
   "source": [
    "def inorder_iter(node):\n",
    "    ans = []\n",
    "    stack = []\n",
    "    curr = node\n",
    "    \n",
    "    while curr or stack:\n",
    "        while curr:\n",
    "            stack.append(curr)\n",
    "            curr = curr.left\n",
    "            \n",
    "        n = stack.pop()\n",
    "        ans.append(n.val)\n",
    "        curr = n.right\n",
    "        \n",
    "    return ans"
   ]
  }
 ],
 "metadata": {
  "kernelspec": {
   "display_name": "Python 3",
   "language": "python",
   "name": "python3"
  },
  "language_info": {
   "codemirror_mode": {
    "name": "ipython",
    "version": 3
   },
   "file_extension": ".py",
   "mimetype": "text/x-python",
   "name": "python",
   "nbconvert_exporter": "python",
   "pygments_lexer": "ipython3",
   "version": "3.7.3"
  }
 },
 "nbformat": 4,
 "nbformat_minor": 2
}
