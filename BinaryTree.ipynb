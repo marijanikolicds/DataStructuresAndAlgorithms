{
 "cells": [
  {
   "cell_type": "code",
   "execution_count": 46,
   "metadata": {},
   "outputs": [],
   "source": [
    "# For all methods\n",
    "\n",
    "# Time: O(N)\n",
    "# Space: O(N) - either recursion stack in recursive solutions or stack in iter solutions"
   ]
  },
  {
   "cell_type": "code",
   "execution_count": 47,
   "metadata": {},
   "outputs": [],
   "source": [
    "class Node:\n",
    "    def __init__(self, val = None, left = None, right = None):\n",
    "        self.val = val\n",
    "        self.left = left\n",
    "        self.right = right"
   ]
  },
  {
   "cell_type": "code",
   "execution_count": 48,
   "metadata": {},
   "outputs": [],
   "source": [
    "# left -> root -> right\n",
    "def inorder(node, ans):\n",
    "    if node is None:\n",
    "        return\n",
    "    \n",
    "    inorder(node.left, ans)\n",
    "    ans.append(node.val)\n",
    "    inorder(node.right, ans)"
   ]
  },
  {
   "cell_type": "code",
   "execution_count": 49,
   "metadata": {},
   "outputs": [],
   "source": [
    "# root -> left -> right\n",
    "# top -> down\n",
    "def preorder(node, ans):\n",
    "    if node is None:\n",
    "        return\n",
    "    \n",
    "    ans.append(node.val)\n",
    "    preorder(node.left, ans)\n",
    "    preorder(node.right, ans)"
   ]
  },
  {
   "cell_type": "code",
   "execution_count": 50,
   "metadata": {},
   "outputs": [],
   "source": [
    "# left -> right -> root\n",
    "# bottom -> up\n",
    "def postorder(node, ans):\n",
    "    if node is None:\n",
    "        return\n",
    "    \n",
    "    postorder(node.left, ans)\n",
    "    postorder(node.right, ans)\n",
    "    ans.append(node.val)"
   ]
  },
  {
   "cell_type": "code",
   "execution_count": 51,
   "metadata": {},
   "outputs": [],
   "source": [
    "def levelorder(node):\n",
    "    q = [node]\n",
    "    ans = []\n",
    "    \n",
    "    while q:\n",
    "        n = q.pop(0)\n",
    "        ans.append(n.val)\n",
    "        if n.left:\n",
    "            q.append(n.left)\n",
    "        if n.right:\n",
    "            q.append(n.right)\n",
    "    return ans"
   ]
  },
  {
   "cell_type": "code",
   "execution_count": 52,
   "metadata": {},
   "outputs": [],
   "source": [
    "def preorder_iter(node):\n",
    "    ans = []\n",
    "    stack = [node]\n",
    "    \n",
    "    while stack:\n",
    "        n = stack.pop()\n",
    "        ans.append(n.val)\n",
    "        if n.right:\n",
    "            stack.append(n.right)\n",
    "        if n.left:\n",
    "            stack.append(n.left)  \n",
    "            \n",
    "    return ans"
   ]
  },
  {
   "cell_type": "code",
   "execution_count": 53,
   "metadata": {},
   "outputs": [],
   "source": [
    "def postorder_iter(node):\n",
    "    ans = []\n",
    "    stack = [node]\n",
    "    \n",
    "    while stack:\n",
    "        n = stack.pop()\n",
    "        ans.append(n.val)\n",
    "        if n.left:\n",
    "            stack.append(n.left)\n",
    "        if n.right:\n",
    "            stack.append(n.right)  \n",
    "            \n",
    "    return ans[::-1]"
   ]
  },
  {
   "cell_type": "code",
   "execution_count": 54,
   "metadata": {},
   "outputs": [],
   "source": [
    "def inorder_iter(node):\n",
    "    ans = []\n",
    "    stack = []\n",
    "    curr = node\n",
    "    \n",
    "    while curr or stack:\n",
    "        while curr:\n",
    "            stack.append(curr)\n",
    "            curr = curr.left\n",
    "            \n",
    "        n = stack.pop()\n",
    "        ans.append(n.val)\n",
    "        curr = n.right\n",
    "        \n",
    "    return ans"
   ]
  }
 ],
 "metadata": {
  "kernelspec": {
   "display_name": "Python 3",
   "language": "python",
   "name": "python3"
  },
  "language_info": {
   "codemirror_mode": {
    "name": "ipython",
    "version": 3
   },
   "file_extension": ".py",
   "mimetype": "text/x-python",
   "name": "python",
   "nbconvert_exporter": "python",
   "pygments_lexer": "ipython3",
   "version": "3.7.3"
  }
 },
 "nbformat": 4,
 "nbformat_minor": 2
}
