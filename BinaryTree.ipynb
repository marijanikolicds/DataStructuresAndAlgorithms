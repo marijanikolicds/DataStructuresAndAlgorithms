{
 "cells": [
  {
   "cell_type": "markdown",
   "metadata": {},
   "source": [
    "# Binary Tree\n",
    "\n",
    "Formally, binary tree is either empty or a root node with a left binary tree (_left child_) and right binary tree (_right child_). A node without child nodes is called a _leaf_.\n",
    "The sequence of nodes from the root to a given node is called _search path_.\n",
    "The _depth_ of a node is the number of nodes on the search path from the root to that node, not including the node itself.\n",
    "The _height_ of a binary tree is the maximum depth of any node in that tree.\n",
    "\n",
    "A key computation is traversing all the nodes in the tree:\n",
    "* _inorder_: traverse the left subtree -> visit the root -> traverse the right subtree\n",
    "* _preorder_: visit the root -> traverse the left subtree -> traverse the right subtree\n",
    "* _postorder_: traverse the left subtree -> traverse the right subtree -> visit the root\n",
    "\n",
    "The time complexity of each traversal is _O(n)_, where n is the number of nodes.   \n",
    "The space complexity is _O(h)_, where h is the the height of the tree. The height can go from _log(n)_ for balanced trees, to _n_ for skewed trees."
   ]
  },
  {
   "cell_type": "code",
   "execution_count": 1,
   "metadata": {},
   "outputs": [],
   "source": [
    "class Node:\n",
    "    def __init__(self, val = None, left = None, right = None):\n",
    "        self.val = val\n",
    "        self.left = left\n",
    "        self.right = right"
   ]
  },
  {
   "cell_type": "code",
   "execution_count": 2,
   "metadata": {},
   "outputs": [],
   "source": [
    "# inorder traversal - recursive approach\n",
    "# traverse the left subtree -> visit the root -> traverse the right subtree\n",
    "def inorder(node, ans):\n",
    "    if node is None:\n",
    "        return\n",
    "    \n",
    "    inorder(node.left, ans)\n",
    "    ans.append(node.val)\n",
    "    inorder(node.right, ans)"
   ]
  },
  {
   "cell_type": "code",
   "execution_count": 3,
   "metadata": {},
   "outputs": [],
   "source": [
    "# preorder traversal - recursive approach\n",
    "# visit the root -> traverse the left subtree -> traverse the right subtree\n",
    "def preorder(node, ans):\n",
    "    if node is None:\n",
    "        return\n",
    "    \n",
    "    ans.append(node.val)\n",
    "    preorder(node.left, ans)\n",
    "    preorder(node.right, ans)"
   ]
  },
  {
   "cell_type": "code",
   "execution_count": 4,
   "metadata": {},
   "outputs": [],
   "source": [
    "# postorder traversal - recursive approach\n",
    "# traverse the left subtree -> traverse the right subtree -> visit the root\n",
    "def postorder(node, ans):\n",
    "    if node is None:\n",
    "        return\n",
    "    \n",
    "    postorder(node.left, ans)\n",
    "    postorder(node.right, ans)\n",
    "    ans.append(node.val)"
   ]
  },
  {
   "cell_type": "code",
   "execution_count": 5,
   "metadata": {},
   "outputs": [],
   "source": [
    "# traverse the tree level by level\n",
    "import collections\n",
    "def levelorder(node):\n",
    "    queue = collections.deque()\n",
    "    queue.append(node)\n",
    "    ans = []\n",
    "    \n",
    "    while queue:\n",
    "        n = queue.popleft()\n",
    "        ans.append(n.val)\n",
    "        if n.left:\n",
    "            queue.append(n.left)\n",
    "        if n.right:\n",
    "            queue.append(n.right)\n",
    "    return ans"
   ]
  },
  {
   "cell_type": "code",
   "execution_count": 6,
   "metadata": {},
   "outputs": [],
   "source": [
    "# inorder traversal - iterative approach\n",
    "# traverse the left subtree -> visit the root -> traverse the right subtree\n",
    "def inorder_iter(node):\n",
    "    ans = []\n",
    "    stack = []\n",
    "    curr = node\n",
    "    \n",
    "    while curr or stack:\n",
    "        while curr:\n",
    "            stack.append(curr)\n",
    "            curr = curr.left\n",
    "            \n",
    "        n = stack.pop()\n",
    "        ans.append(n.val)\n",
    "        curr = n.right\n",
    "        \n",
    "    return ans"
   ]
  },
  {
   "cell_type": "code",
   "execution_count": 7,
   "metadata": {},
   "outputs": [],
   "source": [
    "# preorder traversal - iterative approach\n",
    "# visit the root -> traverse the left subtree -> traverse the right subtree\n",
    "def preorder_iter(node):\n",
    "    ans = []\n",
    "    stack = [node]\n",
    "    \n",
    "    while stack:\n",
    "        n = stack.pop()\n",
    "        ans.append(n.val)\n",
    "        if n.right:\n",
    "            stack.append(n.right)\n",
    "        if n.left:\n",
    "            stack.append(n.left)  \n",
    "            \n",
    "    return ans"
   ]
  },
  {
   "cell_type": "code",
   "execution_count": 8,
   "metadata": {},
   "outputs": [],
   "source": [
    "# postorder traversal - iterative approach\n",
    "# visit the root -> traverse the left subtree -> traverse the right subtree\n",
    "def postorder_iter(node):\n",
    "    ans = []\n",
    "    stack = [node]\n",
    "    \n",
    "    while stack:\n",
    "        n = stack.pop()\n",
    "        ans.append(n.val)\n",
    "        if n.left:\n",
    "            stack.append(n.left)\n",
    "        if n.right:\n",
    "            stack.append(n.right)  \n",
    "            \n",
    "    return ans[::-1]"
   ]
  },
  {
   "cell_type": "markdown",
   "metadata": {},
   "source": [
    "## Test"
   ]
  },
  {
   "cell_type": "code",
   "execution_count": 9,
   "metadata": {},
   "outputs": [
    {
     "name": "stderr",
     "output_type": "stream",
     "text": [
      "test_inorder (__main__.Test) ... ok\n",
      "test_inorder_iter (__main__.Test) ... ok\n",
      "test_levelorder (__main__.Test) ... ok\n",
      "test_postorder (__main__.Test) ... ok\n",
      "test_postorder_iter (__main__.Test) ... ok\n",
      "test_preorder (__main__.Test) ... ok\n",
      "test_preorder_iter (__main__.Test) ... ok\n",
      "\n",
      "----------------------------------------------------------------------\n",
      "Ran 7 tests in 0.005s\n",
      "\n",
      "OK\n"
     ]
    }
   ],
   "source": [
    "import unittest\n",
    "\n",
    "class Test(unittest.TestCase):\n",
    "    \n",
    "    n1 = Node(1)\n",
    "    n3 = Node(3)\n",
    "    n2 = Node(2, n1, n3)\n",
    "    n5 = Node(5)\n",
    "    n7 = Node(7)\n",
    "    n6 = Node(6, n5, n7)\n",
    "    root = Node(4, n2, n6)\n",
    "        \n",
    "    def test_inorder(self):\n",
    "        ans = []\n",
    "        inorder(self.root, ans)\n",
    "        self.assertEqual(ans, [1, 2, 3, 4, 5, 6, 7])\n",
    "        \n",
    "    def test_inorder_iter(self):\n",
    "        ans = inorder_iter(self.root)\n",
    "        self.assertEqual(ans, [1, 2, 3, 4, 5, 6, 7])\n",
    "        \n",
    "    def test_preorder(self):\n",
    "        ans = []\n",
    "        preorder(self.root, ans)\n",
    "        self.assertEqual(ans, [4, 2, 1, 3, 6, 5, 7])\n",
    "        \n",
    "    def test_preorder_iter(self):\n",
    "        ans = preorder_iter(self.root)\n",
    "        self.assertEqual(ans, [4, 2, 1, 3, 6, 5, 7])\n",
    "        \n",
    "    def test_postorder(self):\n",
    "        ans = []\n",
    "        postorder(self.root, ans)\n",
    "        self.assertEqual(ans, [1, 3, 2, 5, 7, 6, 4])\n",
    "        \n",
    "    def test_postorder_iter(self):\n",
    "        ans = postorder_iter(self.root)\n",
    "        self.assertEqual(ans, [1, 3, 2, 5, 7, 6, 4])\n",
    "\n",
    "    def test_levelorder(self):\n",
    "        ans = levelorder(self.root)\n",
    "        self.assertEqual(ans, [4, 2, 6, 1, 3, 5, 7])\n",
    "\n",
    "unittest.main(argv=[''], verbosity=2, exit=False);"
   ]
  }
 ],
 "metadata": {
  "kernelspec": {
   "display_name": "Python 3",
   "language": "python",
   "name": "python3"
  },
  "language_info": {
   "codemirror_mode": {
    "name": "ipython",
    "version": 3
   },
   "file_extension": ".py",
   "mimetype": "text/x-python",
   "name": "python",
   "nbconvert_exporter": "python",
   "pygments_lexer": "ipython3",
   "version": "3.7.3"
  }
 },
 "nbformat": 4,
 "nbformat_minor": 2
}
