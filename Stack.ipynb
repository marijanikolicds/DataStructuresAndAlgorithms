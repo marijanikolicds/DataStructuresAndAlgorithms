{
 "cells": [
  {
   "cell_type": "code",
   "execution_count": null,
   "metadata": {},
   "outputs": [],
   "source": [
    "class Node:\n",
    "    def __init__(self, val = None, next = None):\n",
    "        self.val = val\n",
    "        self.next = next\n",
    "        "
   ]
  },
  {
   "cell_type": "code",
   "execution_count": null,
   "metadata": {},
   "outputs": [],
   "source": [
    "class Stack:\n",
    "    def __init__(self, top = None):\n",
    "        self.top = top\n",
    "    \n",
    "    # Time: O(1)\n",
    "    def push(self, val):\n",
    "        node = Node(val)\n",
    "        node.next = self.top\n",
    "        self.top = node\n",
    "        \n",
    "    # Time: O(1)\n",
    "    def peak(self):\n",
    "        if self.top:\n",
    "            return self.top.val\n",
    "        else:\n",
    "            raise IndexError('peak(): empty stack')\n",
    "        \n",
    "    # Time: O(1)\n",
    "    def pop(self):\n",
    "        if self.top:\n",
    "            val = self.top.val\n",
    "            self.top = self.top.next\n",
    "            return val\n",
    "        else:\n",
    "            raise IndexError('pop(): empty stack')\n",
    "            \n",
    "    def __iter__(self):\n",
    "        return self\n",
    "    \n",
    "    def __next__(self):\n",
    "        node = self.top\n",
    "        if not node:\n",
    "            raise StopIteration()\n",
    "        self.top = self.top.next\n",
    "        return node.val\n",
    "    "
   ]
  }
 ],
 "metadata": {
  "kernelspec": {
   "display_name": "Python 3",
   "language": "python",
   "name": "python3"
  },
  "language_info": {
   "codemirror_mode": {
    "name": "ipython",
    "version": 3
   },
   "file_extension": ".py",
   "mimetype": "text/x-python",
   "name": "python",
   "nbconvert_exporter": "python",
   "pygments_lexer": "ipython3",
   "version": "3.7.3"
  }
 },
 "nbformat": 4,
 "nbformat_minor": 2
}
