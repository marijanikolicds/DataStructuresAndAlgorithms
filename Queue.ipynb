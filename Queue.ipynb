{
 "cells": [
  {
   "cell_type": "code",
   "execution_count": 13,
   "metadata": {},
   "outputs": [],
   "source": [
    "class Node:\n",
    "    def __init__(self, val = None, next = None):\n",
    "        self.val = val\n",
    "        self.next = next"
   ]
  },
  {
   "cell_type": "code",
   "execution_count": 14,
   "metadata": {},
   "outputs": [],
   "source": [
    "class Queue:\n",
    "    def __init__(self, first = None, last = None):\n",
    "        self.first = first\n",
    "        self.last = last\n",
    "        \n",
    "    # Time: O(1)\n",
    "    def add(self, val):\n",
    "        node = Node(val)\n",
    "        if self.last is None:\n",
    "            self.first = node\n",
    "        else:\n",
    "            self.last.next = node\n",
    "        self.last = node\n",
    "        \n",
    "    # Time: O(1)\n",
    "    def delete(self):\n",
    "        if self.first is None:\n",
    "            raise IndexError('delete(): queue is empty')\n",
    "        else:\n",
    "            val = self.first.val\n",
    "            self.first = self.first.next\n",
    "            if self.first is None:\n",
    "                self.last = None\n",
    "            return val\n",
    "        \n",
    "    def __iter__(self):\n",
    "        return self\n",
    "    \n",
    "    def __next__(self):\n",
    "        node = self.first\n",
    "        if node is None:\n",
    "            raise StopIteration()\n",
    "        self.first = self.first.next\n",
    "        return node.val"
   ]
  }
 ],
 "metadata": {
  "kernelspec": {
   "display_name": "Python 3",
   "language": "python",
   "name": "python3"
  },
  "language_info": {
   "codemirror_mode": {
    "name": "ipython",
    "version": 3
   },
   "file_extension": ".py",
   "mimetype": "text/x-python",
   "name": "python",
   "nbconvert_exporter": "python",
   "pygments_lexer": "ipython3",
   "version": "3.7.3"
  }
 },
 "nbformat": 4,
 "nbformat_minor": 2
}
