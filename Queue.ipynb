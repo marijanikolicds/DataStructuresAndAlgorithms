{
 "cells": [
  {
   "cell_type": "markdown",
   "metadata": {},
   "source": [
    "# Queue\n",
    "\n",
    "Queue supports first-in, first-out semantics for inserts and deletes. It has two basic operations: \n",
    "* _add_: adds an element at the end, \n",
    "* _delete_: removes the element from the beginning. \n",
    "\n",
    "If the queue is empty, _delete_ throws an exception.   \n",
    "All operations have _O(1)_ time complexity. "
   ]
  },
  {
   "cell_type": "code",
   "execution_count": 10,
   "metadata": {},
   "outputs": [],
   "source": [
    "class Node:\n",
    "    def __init__(self, val = None, next = None):\n",
    "        self.val = val\n",
    "        self.next = next"
   ]
  },
  {
   "cell_type": "code",
   "execution_count": 11,
   "metadata": {},
   "outputs": [],
   "source": [
    "class Queue:\n",
    "    def __init__(self, first = None, last = None):\n",
    "        self.first = first\n",
    "        self.last = last\n",
    "        \n",
    "    # Time: O(1)\n",
    "    def add(self, val):\n",
    "        node = Node(val)\n",
    "        if self.last is None:\n",
    "            self.first = node\n",
    "        else:\n",
    "            self.last.next = node\n",
    "        self.last = node\n",
    "        \n",
    "    # Time: O(1)\n",
    "    def delete(self):\n",
    "        if self.first is None:\n",
    "            raise IndexError('delete(): queue is empty')\n",
    "        else:\n",
    "            val = self.first.val\n",
    "            self.first = self.first.next\n",
    "            if self.first is None:\n",
    "                self.last = None\n",
    "            return val\n",
    "        \n",
    "    def __iter__(self):\n",
    "        return self\n",
    "    \n",
    "    def __next__(self):\n",
    "        node = self.first\n",
    "        if node is None:\n",
    "            raise StopIteration()\n",
    "        self.first = self.first.next\n",
    "        return node.val"
   ]
  },
  {
   "cell_type": "markdown",
   "metadata": {},
   "source": [
    "## Test"
   ]
  },
  {
   "cell_type": "code",
   "execution_count": 12,
   "metadata": {},
   "outputs": [
    {
     "name": "stderr",
     "output_type": "stream",
     "text": [
      "test_delete (__main__.TestList) ... ok\n",
      "test_empty_queue (__main__.TestList) ... ok\n",
      "test_insert (__main__.TestList) ... ok\n",
      "\n",
      "----------------------------------------------------------------------\n",
      "Ran 3 tests in 0.003s\n",
      "\n",
      "OK\n"
     ]
    }
   ],
   "source": [
    "import unittest\n",
    "\n",
    "class TestList(unittest.TestCase):\n",
    "    \n",
    "    def test_insert(self):\n",
    "        queue = Queue()\n",
    "        \n",
    "        queue.add(1)\n",
    "        self.assertEqual(queue.last.val, 1)\n",
    "        \n",
    "        queue.add(2)\n",
    "        self.assertEqual(queue.last.val, 2)\n",
    "        \n",
    "        queue.add(3)\n",
    "        self.assertEqual(queue.last.val, 3)\n",
    "\n",
    "    def test_delete(self):\n",
    "        queue = Queue()\n",
    "        queue.add(1)\n",
    "        queue.add(2)\n",
    "        queue.add(3)\n",
    "        \n",
    "        self.assertEqual(queue.delete(), 1)\n",
    "        self.assertEqual(queue.delete(), 2)\n",
    "        self.assertEqual(queue.delete(), 3)\n",
    "        \n",
    "    def test_empty_queue(self):\n",
    "        queue = Queue()\n",
    "        self.assertRaises(IndexError, queue.delete)\n",
    "\n",
    "\n",
    "unittest.main(argv=[''], verbosity=2, exit=False);"
   ]
  }
 ],
 "metadata": {
  "kernelspec": {
   "display_name": "Python 3",
   "language": "python",
   "name": "python3"
  },
  "language_info": {
   "codemirror_mode": {
    "name": "ipython",
    "version": 3
   },
   "file_extension": ".py",
   "mimetype": "text/x-python",
   "name": "python",
   "nbconvert_exporter": "python",
   "pygments_lexer": "ipython3",
   "version": "3.7.3"
  }
 },
 "nbformat": 4,
 "nbformat_minor": 2
}
