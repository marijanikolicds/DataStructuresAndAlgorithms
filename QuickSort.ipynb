{
 "cells": [
  {
   "cell_type": "markdown",
   "metadata": {},
   "source": [
    "# Quick Sort Algorithm\n",
    "\n",
    "Quick sort is classical divide-and-conquer algorithm for sorting.\n",
    "\n",
    "1. First, it selects a value from the list, which serves as a pivot value to divide the list into two sublists. One sublist contains all the values that are less than the pivot value, while the other sublist contains the values that are greater than or equal to the pivot value. This process is also called partitioning. The strategy of choosing a pivot value can vary. Typically, one can choose the first element in the list as the pivot, or randomly pick an element from the list.   \n",
    "2. After the partitioning process, the original list is then reduced into two smaller sublists. We then recursively sort the two sublists.   \n",
    "3. After the partitioning process, we are sure that all elements in one sublist are less or equal than any element in another sublist. Therefore, we can simply concatenate the two sorted sublists that we obtain in step 2 to obtain the final sorted list. \n",
    "\n",
    "The time complexity of the quick sort algorithm can vary from O(NlogN) in the best case and O(N) in the worst case, with N as the length of the array.    \n",
    "Space complexity is O(logN).\n",
    " \n",
    "[Reference](https://leetcode.com/explore/learn/card/recursion-ii/470/divide-and-conquer/2870/)"
   ]
  },
  {
   "cell_type": "code",
   "execution_count": null,
   "metadata": {},
   "outputs": [],
   "source": [
    "def quick_sort(arr):\n",
    "    qs_util(arr, 0, len(arr) - 1)"
   ]
  },
  {
   "cell_type": "code",
   "execution_count": 2,
   "metadata": {},
   "outputs": [],
   "source": [
    "def qs_util(arr, lo, hi):\n",
    "    \n",
    "    if hi <= lo:\n",
    "        return\n",
    "    \n",
    "    j = partition(arr, lo, hi)\n",
    "    \n",
    "    qs_util(arr, lo, j - 1)\n",
    "    qs_util(arr, j + 1, hi)"
   ]
  },
  {
   "cell_type": "code",
   "execution_count": 21,
   "metadata": {},
   "outputs": [],
   "source": [
    "def partition(a, lo, hi):\n",
    "    i = lo\n",
    "    j = hi\n",
    "    \n",
    "    while True:\n",
    "        while a[i] < a[lo]:\n",
    "            i += 1\n",
    "            if i == hi:\n",
    "                break\n",
    "                \n",
    "        while a[j] > a[lo]:\n",
    "            j -= 1\n",
    "            if j == lo:\n",
    "                break\n",
    "                \n",
    "                \n",
    "        if i >= j:\n",
    "            break\n",
    "            \n",
    "        a[i], a[j] = a[j], a[i]\n",
    "    \n",
    "    return j"
   ]
  },
  {
   "cell_type": "markdown",
   "metadata": {},
   "source": [
    "## Test"
   ]
  },
  {
   "cell_type": "code",
   "execution_count": 22,
   "metadata": {},
   "outputs": [
    {
     "name": "stderr",
     "output_type": "stream",
     "text": [
      "test_sort_an_almost_sorted_array (__main__.Test) ... ok\n",
      "\n",
      "----------------------------------------------------------------------\n",
      "Ran 1 test in 0.001s\n",
      "\n",
      "OK\n"
     ]
    }
   ],
   "source": [
    "import unittest\n",
    "\n",
    "class Test(unittest.TestCase):\n",
    "    \n",
    "    def test_sort_an_almost_sorted_array(self):\n",
    "        arr = [2,5,1,8,4]\n",
    "        quick_sort(arr)\n",
    "        self.assertEqual(arr, [1,2,4,5,8])\n",
    "        \n",
    "        arr = [1,2,4,5,8]\n",
    "        quick_sort(arr)\n",
    "        self.assertEqual(arr, [1,2,4,5,8])\n",
    "        \n",
    "        arr = [5,4,3,2,1]\n",
    "        quick_sort(arr)\n",
    "        self.assertEqual(arr, [1,2,3,4,5])\n",
    "        \n",
    "unittest.main(argv=[''], verbosity=2, exit=False);"
   ]
  }
 ],
 "metadata": {
  "kernelspec": {
   "display_name": "Python 3",
   "language": "python",
   "name": "python3"
  },
  "language_info": {
   "codemirror_mode": {
    "name": "ipython",
    "version": 3
   },
   "file_extension": ".py",
   "mimetype": "text/x-python",
   "name": "python",
   "nbconvert_exporter": "python",
   "pygments_lexer": "ipython3",
   "version": "3.7.3"
  }
 },
 "nbformat": 4,
 "nbformat_minor": 2
}
