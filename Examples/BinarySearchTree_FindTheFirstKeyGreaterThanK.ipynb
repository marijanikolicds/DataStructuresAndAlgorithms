{
 "cells": [
  {
   "cell_type": "markdown",
   "metadata": {},
   "source": [
    "# Find The First Key Greater Than K\n",
    "\n",
    "Write a program for finding the first key greater than the given value K in a BST.\n",
    "\n",
    "[Elements Of Programming Interviews](https://www.amazon.com/Elements-Programming-Interviews-Python-Insiders/dp/1537713949#:~:text=If%20so%2C%20you%20need%20to,asked%20at%20leading%20software%20companies.): 14. Binary Search Trees - 14.2 Find The First Key Greater Than K"
   ]
  },
  {
   "cell_type": "code",
   "execution_count": 5,
   "metadata": {},
   "outputs": [],
   "source": [
    "class Node:\n",
    "    def __init__(self, val = None, left = None, right = None):\n",
    "        self.val = val\n",
    "        self.left = left\n",
    "        self.right = right"
   ]
  },
  {
   "cell_type": "code",
   "execution_count": 12,
   "metadata": {},
   "outputs": [],
   "source": [
    "class BST:\n",
    "    def __init__(self):\n",
    "        self.root = None\n",
    "       \n",
    "    def insert(self, val):\n",
    "        def insert_util(node, val):\n",
    "            if node is None:\n",
    "                return Node(val)\n",
    "\n",
    "            if val < node.val:\n",
    "                node.left = insert_util(node.left, val)\n",
    "            else:\n",
    "                node.right = insert_util(node.right, val)\n",
    "            return node\n",
    "    \n",
    "        self.root = insert_util(self.root, val)"
   ]
  },
  {
   "cell_type": "code",
   "execution_count": 13,
   "metadata": {},
   "outputs": [],
   "source": [
    "# Time: O(logN)\n",
    "# Space: O(h), h - tree height, worst-case: h = n\n",
    "def find_first_key_greater_than_k(root, k):\n",
    "    if root is None:\n",
    "        return None\n",
    "    \n",
    "    if root.val <= k:\n",
    "        return find_first_key_greater_than_k(root.right, k)\n",
    "    else:\n",
    "        node = root\n",
    "        n = find_first_key_greater_than_k(root.left, k)\n",
    "        if n == None:\n",
    "            return node\n",
    "        else:\n",
    "            return n    "
   ]
  },
  {
   "cell_type": "markdown",
   "metadata": {},
   "source": [
    "## Test"
   ]
  },
  {
   "cell_type": "code",
   "execution_count": 24,
   "metadata": {},
   "outputs": [
    {
     "name": "stderr",
     "output_type": "stream",
     "text": [
      "test_find_first_key_greater_than_k (__main__.Test) ... ok\n",
      "\n",
      "----------------------------------------------------------------------\n",
      "Ran 1 test in 0.001s\n",
      "\n",
      "OK\n"
     ]
    }
   ],
   "source": [
    "import unittest\n",
    "\n",
    "class Test(unittest.TestCase):\n",
    "    \n",
    "    bst = BST()\n",
    "    bst.insert(4)\n",
    "    bst.insert(2)\n",
    "    bst.insert(6)\n",
    "    bst.insert(1)\n",
    "    bst.insert(3)\n",
    "    bst.insert(5)\n",
    "    bst.insert(6)\n",
    "    bst.insert(7)\n",
    "    \n",
    "    def test_find_first_key_greater_than_k(self):\n",
    "        \n",
    "        ans = find_first_key_greater_than_k(self.bst.root, 1)\n",
    "        self.assertEqual(ans.val, 2)\n",
    "        \n",
    "        ans = find_first_key_greater_than_k(self.bst.root, 2)\n",
    "        self.assertEqual(ans.val, 3)\n",
    "        \n",
    "        ans = find_first_key_greater_than_k(self.bst.root, 3)\n",
    "        self.assertEqual(ans.val, 4)\n",
    "        \n",
    "        ans = find_first_key_greater_than_k(self.bst.root, 4)\n",
    "        self.assertEqual(ans.val, 5)\n",
    "        \n",
    "        ans = find_first_key_greater_than_k(self.bst.root, 5)\n",
    "        self.assertEqual(ans.val, 6)\n",
    "        \n",
    "        ans = find_first_key_greater_than_k(self.bst.root, 6)\n",
    "        self.assertEqual(ans.val, 7)\n",
    "        \n",
    "        ans = find_first_key_greater_than_k(self.bst.root, 7)\n",
    "        self.assertEqual(ans, None)\n",
    "\n",
    "unittest.main(argv=[''], verbosity=2, exit=False);"
   ]
  }
 ],
 "metadata": {
  "kernelspec": {
   "display_name": "Python 3",
   "language": "python",
   "name": "python3"
  },
  "language_info": {
   "codemirror_mode": {
    "name": "ipython",
    "version": 3
   },
   "file_extension": ".py",
   "mimetype": "text/x-python",
   "name": "python",
   "nbconvert_exporter": "python",
   "pygments_lexer": "ipython3",
   "version": "3.7.3"
  }
 },
 "nbformat": 4,
 "nbformat_minor": 2
}
