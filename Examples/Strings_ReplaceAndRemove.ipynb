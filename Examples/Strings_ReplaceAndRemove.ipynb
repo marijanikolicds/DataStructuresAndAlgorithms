{
 "cells": [
  {
   "cell_type": "markdown",
   "metadata": {},
   "source": [
    "# Replace and Remove\n",
    "\n",
    "Write a program that takes an array of characters as input and removes character 'b' and replaces each 'a' by 2 'd's. \n",
    "\n",
    "[Elements Of Programming Interviews](https://www.amazon.com/Elements-Programming-Interviews-Python-Insiders/dp/1537713949#:~:text=If%20so%2C%20you%20need%20to,asked%20at%20leading%20software%20companies.): 6. String - 6.2 Replace and remove"
   ]
  },
  {
   "cell_type": "code",
   "execution_count": 19,
   "metadata": {},
   "outputs": [],
   "source": [
    "# Input:\n",
    "#      - s: array of characters\n",
    "#      - size: number of characters in s (you can assume that there are some empty spots in s to contain the result)\n",
    "def replace_and_remove(s, size):\n",
    "    \n",
    "    # 1. pass through s: remove 'b's\n",
    "    idx_write, cnt_a = 0, 0\n",
    "    for i in range(size):\n",
    "        if s[i] != 'b':\n",
    "            s[idx_write] = s[i]\n",
    "            idx_write += 1\n",
    "        if s[i] == 'a':\n",
    "            cnt_a += 1\n",
    "    \n",
    "    idx_curr = idx_write - 1\n",
    "    idx_write += cnt_a - 1\n",
    "    final_size = idx_write\n",
    "    \n",
    "    while idx_curr >= 0:\n",
    "        ch = s[idx_curr]\n",
    "        if ch != 'a':\n",
    "            s[idx_write] = s[idx_curr]\n",
    "            idx_write -= 1\n",
    "        else:\n",
    "            s[idx_write] = 'd'\n",
    "            idx_write -= 1\n",
    "            s[idx_write] = 'd'\n",
    "            idx_write -= 1\n",
    "        idx_curr -= 1\n",
    "            \n",
    "    return (final_size, s)"
   ]
  },
  {
   "cell_type": "code",
   "execution_count": 20,
   "metadata": {},
   "outputs": [
    {
     "data": {
      "text/plain": [
       "(6, ['d', 'd', 'c', 'd', 'c', 'd', 'd'])"
      ]
     },
     "execution_count": 20,
     "metadata": {},
     "output_type": "execute_result"
    }
   ],
   "source": [
    "s = ['a', 'c', 'd', 'b', 'b', 'c', 'a']\n",
    "size = len(s)\n",
    "replace_and_remove(s, size)"
   ]
  },
  {
   "cell_type": "code",
   "execution_count": 21,
   "metadata": {},
   "outputs": [
    {
     "data": {
      "text/plain": [
       "(-1, [])"
      ]
     },
     "execution_count": 21,
     "metadata": {},
     "output_type": "execute_result"
    }
   ],
   "source": [
    "s = []\n",
    "size = len(s)\n",
    "replace_and_remove(s, size)"
   ]
  },
  {
   "cell_type": "code",
   "execution_count": 22,
   "metadata": {},
   "outputs": [
    {
     "data": {
      "text/plain": [
       "(8, ['d', 'd', 'c', 'd', 'c', 'd', 'd', 'd', 'd'])"
      ]
     },
     "execution_count": 22,
     "metadata": {},
     "output_type": "execute_result"
    }
   ],
   "source": [
    "s = ['a', 'c', 'd', 'b', 'b', 'c', 'a', 'a', '']\n",
    "size = 8\n",
    "replace_and_remove(s, size)"
   ]
  },
  {
   "cell_type": "markdown",
   "metadata": {},
   "source": [
    "## Test"
   ]
  },
  {
   "cell_type": "code",
   "execution_count": 23,
   "metadata": {},
   "outputs": [
    {
     "name": "stderr",
     "output_type": "stream",
     "text": [
      "test_replace_and_remove (__main__.Test) ... ok\n",
      "\n",
      "----------------------------------------------------------------------\n",
      "Ran 1 test in 0.001s\n",
      "\n",
      "OK\n"
     ]
    }
   ],
   "source": [
    "import unittest\n",
    "\n",
    "class Test(unittest.TestCase):\n",
    "    \n",
    "    def test_replace_and_remove(self):\n",
    "        s = ['c', 'c', 'd', 'b', 'b', 'c', 'a']\n",
    "        size = 7 \n",
    "        self.assertEqual(replace_and_remove(s, size), (5, ['c', 'c', 'd', 'c', 'd', 'd', 'a']))\n",
    "        \n",
    "        s = ['a', 'c', 'd', 'b', 'b', 'c', 'a']\n",
    "        size = 7\n",
    "        self.assertEqual(replace_and_remove(s, size), (6, ['d', 'd', 'c', 'd', 'c', 'd', 'd']))\n",
    "        \n",
    "        s = ['a', 'c', 'd', 'b', 'b', 'c', 'a', 'a', '']\n",
    "        size = 8\n",
    "        self.assertEqual(replace_and_remove(s, size), (8, ['d', 'd', 'c', 'd', 'c', 'd', 'd', 'd', 'd']))\n",
    "                \n",
    "unittest.main(argv=[''], verbosity=2, exit=False);"
   ]
  }
 ],
 "metadata": {
  "kernelspec": {
   "display_name": "Python 3",
   "language": "python",
   "name": "python3"
  },
  "language_info": {
   "codemirror_mode": {
    "name": "ipython",
    "version": 3
   },
   "file_extension": ".py",
   "mimetype": "text/x-python",
   "name": "python",
   "nbconvert_exporter": "python",
   "pygments_lexer": "ipython3",
   "version": "3.7.3"
  }
 },
 "nbformat": 4,
 "nbformat_minor": 2
}
