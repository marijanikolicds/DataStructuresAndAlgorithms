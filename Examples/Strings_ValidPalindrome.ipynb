{
 "cells": [
  {
   "cell_type": "markdown",
   "metadata": {},
   "source": [
    "# Valid Palindrome\n",
    "\n",
    "Given a string, determine if it is a palindrome, considering only alphanumeric characters and ignoring cases.\n",
    "\n",
    "Note: For the purpose of this problem, we define empty string as valid palindrome.\n",
    "\n",
    "**Example 1:**\n",
    "\n",
    "Input: \"A man, a plan, a canal: Panama\"    \n",
    "Output: true\n",
    "\n",
    "**Example 2:**    \n",
    "\n",
    "Input: \"race a car\"\n",
    "Output: false\n",
    "\n",
    "\n",
    "**Reference:** \n",
    "\n",
    "[LeetCode: 125. Valid Palindrome](https://leetcode.com/problems/valid-palindrome/)   \n",
    "[Elements Of Programming interviews](https://www.amazon.com/Elements-Programming-Interviews-Python-Insiders/dp/1537713949#:~:text=If%20so%2C%20you%20need%20to,asked%20at%20leading%20software%20companies.): 6. Strings"
   ]
  },
  {
   "cell_type": "code",
   "execution_count": 18,
   "metadata": {},
   "outputs": [],
   "source": [
    "# Time: O(n), n - length of input string\n",
    "# Space: O(1)\n",
    "def valid_palindrome(s):\n",
    "    if len(s) == 0:\n",
    "        return True\n",
    "        \n",
    "    s = s.lower()\n",
    "        \n",
    "    lo, hi = 0, len(s) - 1\n",
    "    while lo <= hi:\n",
    "        if not s[lo].isalnum():\n",
    "            lo += 1\n",
    "        elif not s[hi].isalnum():\n",
    "            hi -= 1\n",
    "        elif s[lo] != s[hi]:\n",
    "            return False\n",
    "        else:\n",
    "            lo += 1\n",
    "            hi -= 1\n",
    "\n",
    "    return True"
   ]
  },
  {
   "cell_type": "markdown",
   "metadata": {},
   "source": [
    "## Test"
   ]
  },
  {
   "cell_type": "code",
   "execution_count": 15,
   "metadata": {},
   "outputs": [
    {
     "data": {
      "text/plain": [
       "True"
      ]
     },
     "execution_count": 15,
     "metadata": {},
     "output_type": "execute_result"
    }
   ],
   "source": [
    "s = \"A man, a plan, a canal: Panama\"\n",
    "valid_palindrome(s)"
   ]
  },
  {
   "cell_type": "code",
   "execution_count": 19,
   "metadata": {},
   "outputs": [
    {
     "data": {
      "text/plain": [
       "False"
      ]
     },
     "execution_count": 19,
     "metadata": {},
     "output_type": "execute_result"
    }
   ],
   "source": [
    "s = \"race a car\"\n",
    "valid_palindrome(s)"
   ]
  }
 ],
 "metadata": {
  "kernelspec": {
   "display_name": "Python 3",
   "language": "python",
   "name": "python3"
  },
  "language_info": {
   "codemirror_mode": {
    "name": "ipython",
    "version": 3
   },
   "file_extension": ".py",
   "mimetype": "text/x-python",
   "name": "python",
   "nbconvert_exporter": "python",
   "pygments_lexer": "ipython3",
   "version": "3.7.3"
  }
 },
 "nbformat": 4,
 "nbformat_minor": 2
}
