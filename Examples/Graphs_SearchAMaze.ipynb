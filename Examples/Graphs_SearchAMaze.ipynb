{
 "cells": [
  {
   "cell_type": "markdown",
   "metadata": {},
   "source": [
    "# Search A Maze\n",
    "\n",
    "Given a 2D array of black ('B' - walls) and white ('W' - open areas) cells, the origin and the destination, find out if the path from the origin to the destination exists.\n",
    "\n",
    "**Reference:** \n",
    "\n",
    "[Elements Of Programming Interviews](https://www.amazon.com/Elements-Programming-Interviews-Python-Insiders/dp/1537713949#:~:text=If%20so%2C%20you%20need%20to,asked%20at%20leading%20software%20companies.): 18. Graphs  - 18.1 Search A Maze"
   ]
  },
  {
   "cell_type": "code",
   "execution_count": 5,
   "metadata": {},
   "outputs": [],
   "source": [
    "import collections\n",
    "\n",
    "# Time: O(mn), m - number of rows, n - number of columns\n",
    "# Space: O(m + n) \n",
    "def search_a_maze(maze, origin, destination):\n",
    "    def is_valid(i, j):\n",
    "        if i >= 0 and j >= 0 and i < len(maze) and j < len(maze[0]):\n",
    "            return maze[i][j] == 'W'\n",
    "        \n",
    "    if len(maze) == 0:\n",
    "        return False\n",
    "    \n",
    "    visited = {origin}\n",
    "    queue = collections.deque()\n",
    "    queue.append(origin)\n",
    "    \n",
    "    directions = [(-1, 0), (1, 0), (0, -1), (0, 1)]\n",
    "    \n",
    "    while queue:\n",
    "        node = queue.popleft()\n",
    "        for direction in directions:\n",
    "            i = node[0] + direction[0]\n",
    "            j = node[1] + direction[1]\n",
    "            \n",
    "            if not is_valid(i, j):\n",
    "                continue\n",
    "            else:\n",
    "                if (i, j) in visited:\n",
    "                    continue\n",
    "                else:\n",
    "                    if i == destination[0] and j == destination[1]:\n",
    "                        return True\n",
    "                    else:\n",
    "                        visited.add((i, j))\n",
    "                        queue.append((i, j))\n",
    "                        \n",
    "    return False"
   ]
  },
  {
   "cell_type": "markdown",
   "metadata": {},
   "source": [
    "## Test"
   ]
  },
  {
   "cell_type": "code",
   "execution_count": 6,
   "metadata": {},
   "outputs": [
    {
     "name": "stderr",
     "output_type": "stream",
     "text": [
      "test_search_a_maze_false (__main__.TestList) ... ok\n",
      "test_search_a_maze_true (__main__.TestList) ... ok\n",
      "\n",
      "----------------------------------------------------------------------\n",
      "Ran 2 tests in 0.002s\n",
      "\n",
      "OK\n"
     ]
    }
   ],
   "source": [
    "import unittest\n",
    "\n",
    "class Test(unittest.TestCase):\n",
    "    \n",
    "    def test_search_a_maze_true(self):\n",
    "        maze = [['W','W','W','W'], ['W','W','W','B'], ['B','W','B','B'], ['W','W','B','B']]\n",
    "        origin, destination = (3, 0), (0,3)\n",
    "        ans = search_a_maze(maze, origin, destination)\n",
    "        self.assertEqual(ans, True)\n",
    "        \n",
    "    def test_search_a_maze_false(self):\n",
    "        maze = [['W','W','W','W'], ['W','W','W','B'], ['B','W','B','B'], ['W','B','B','B']]\n",
    "        origin, destination = (3, 0), (0,3)\n",
    "        ans = search_a_maze(maze, origin, destination)\n",
    "        self.assertEqual(ans, False)\n",
    "\n",
    "                \n",
    "unittest.main(argv=[''], verbosity=2, exit=False);"
   ]
  }
 ],
 "metadata": {
  "kernelspec": {
   "display_name": "Python 3",
   "language": "python",
   "name": "python3"
  },
  "language_info": {
   "codemirror_mode": {
    "name": "ipython",
    "version": 3
   },
   "file_extension": ".py",
   "mimetype": "text/x-python",
   "name": "python",
   "nbconvert_exporter": "python",
   "pygments_lexer": "ipython3",
   "version": "3.7.3"
  }
 },
 "nbformat": 4,
 "nbformat_minor": 2
}
