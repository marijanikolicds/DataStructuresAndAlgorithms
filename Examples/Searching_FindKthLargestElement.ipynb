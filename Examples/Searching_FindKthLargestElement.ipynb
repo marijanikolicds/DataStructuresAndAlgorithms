{
 "cells": [
  {
   "cell_type": "markdown",
   "metadata": {},
   "source": [
    "# Find The Kth Largest Element\n",
    "Write a program for computing the kth largest element in an array.\n",
    "\n",
    "[Elements Of Programming Interviews](https://www.amazon.com/Elements-Programming-Interviews-Python-Insiders/dp/1537713949#:~:text=If%20so%2C%20you%20need%20to,asked%20at%20leading%20software%20companies.): 11. Searching - 11.8 Find The Kth Largest Element"
   ]
  },
  {
   "cell_type": "code",
   "execution_count": 23,
   "metadata": {},
   "outputs": [],
   "source": [
    "# Time: O(n)\n",
    "# Space: O(1)\n",
    "def find_kth_largest_element(arr, k):\n",
    "    \n",
    "    lo, hi = 0, len(arr) - 1\n",
    "    \n",
    "    if k > hi:\n",
    "        raise Exception('Index k out of bounds.')\n",
    "        \n",
    "    while lo <= hi:\n",
    "        p = partition(arr, lo, hi)\n",
    "\n",
    "        if k == p:\n",
    "            return arr[k]\n",
    "        elif k < p:\n",
    "            hi = p - 1\n",
    "        else:\n",
    "            lo = p + 1"
   ]
  },
  {
   "cell_type": "code",
   "execution_count": 24,
   "metadata": {},
   "outputs": [],
   "source": [
    "def partition(arr, lo, hi):\n",
    "    i, j = lo, hi\n",
    "    \n",
    "    while True:\n",
    "        while arr[i] < arr[lo]:\n",
    "            i += 1\n",
    "            if i == hi:\n",
    "                break\n",
    "                \n",
    "        while arr[j] > arr[lo]:\n",
    "            j -= 1\n",
    "            if j == lo:\n",
    "                break\n",
    "                \n",
    "        if i >= j:\n",
    "            break\n",
    "            \n",
    "        arr[i], arr[j] = arr[j], arr[i]\n",
    "        \n",
    "    return j"
   ]
  },
  {
   "cell_type": "markdown",
   "metadata": {},
   "source": [
    "## Test"
   ]
  },
  {
   "cell_type": "code",
   "execution_count": 25,
   "metadata": {},
   "outputs": [
    {
     "name": "stderr",
     "output_type": "stream",
     "text": [
      "test_find_kth_largest_element (__main__.Test) ... ok\n",
      "\n",
      "----------------------------------------------------------------------\n",
      "Ran 1 test in 0.001s\n",
      "\n",
      "OK\n"
     ]
    }
   ],
   "source": [
    "import unittest\n",
    "\n",
    "class Test(unittest.TestCase):\n",
    "    \n",
    "    def test_find_kth_largest_element(self):\n",
    "        arr = [2,5,8,3,1,4]\n",
    "        self.assertEqual(find_kth_largest_element(arr, 0), 1)\n",
    "        self.assertEqual(find_kth_largest_element(arr, 1), 2)\n",
    "        self.assertEqual(find_kth_largest_element(arr, 2), 3)\n",
    "        self.assertEqual(find_kth_largest_element(arr, 3), 4)\n",
    "        self.assertEqual(find_kth_largest_element(arr, 4), 5)\n",
    "        self.assertEqual(find_kth_largest_element(arr, 5), 8)\n",
    "        self.assertRaises(Exception, find_kth_largest_element, arr, 6)\n",
    "        \n",
    "unittest.main(argv=[''], verbosity=2, exit=False);"
   ]
  }
 ],
 "metadata": {
  "kernelspec": {
   "display_name": "Python 3",
   "language": "python",
   "name": "python3"
  },
  "language_info": {
   "codemirror_mode": {
    "name": "ipython",
    "version": 3
   },
   "file_extension": ".py",
   "mimetype": "text/x-python",
   "name": "python",
   "nbconvert_exporter": "python",
   "pygments_lexer": "ipython3",
   "version": "3.7.3"
  }
 },
 "nbformat": 4,
 "nbformat_minor": 2
}
