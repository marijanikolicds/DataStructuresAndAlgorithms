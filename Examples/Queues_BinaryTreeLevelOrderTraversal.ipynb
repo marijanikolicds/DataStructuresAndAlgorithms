{
 "cells": [
  {
   "cell_type": "markdown",
   "metadata": {},
   "source": [
    "# Binary Tree Level Order Traversal\n",
    "\n",
    "\n",
    "Given a binary tree, return the level order traversal of its nodes' values (e.g. from left to right, level by level).\n",
    "\n",
    "**Example:**\n",
    "Given binary tree [3,9,20,null,null,15,7], return its level order traversal as:   \n",
    "[[3], [9,20], [15,7]]   \n",
    "   \n",
    "\n",
    "**Reference:** \n",
    "\n",
    "[LeetCode: 102. Binary Tree Level Order Traversal](https://leetcode.com/problems/binary-tree-level-order-traversal/)     \n",
    "[Elements Of Programming interviews](https://www.amazon.com/Elements-Programming-Interviews-Python-Insiders/dp/1537713949#:~:text=If%20so%2C%20you%20need%20to,asked%20at%20leading%20software%20companies.): 8. Stacks and Queues - 8.6 Compute Binary tree Nodes In Order Of Increasing Depth"
   ]
  },
  {
   "cell_type": "code",
   "execution_count": 45,
   "metadata": {},
   "outputs": [],
   "source": [
    "class Node:\n",
    "    def __init__(self, val = None, left = None, right = None):\n",
    "        self.val = val\n",
    "        self.left = left\n",
    "        self.right = right"
   ]
  },
  {
   "cell_type": "code",
   "execution_count": 1,
   "metadata": {},
   "outputs": [],
   "source": [
    "import collections\n",
    "\n",
    "# Time complexity : O(N) since each node is processed exactly once\n",
    "# Space complexity : O(N) to keep the output structure which contains N node values\n",
    "def binary_tree_level_order_traversal(root):\n",
    "    queue = collections.deque()\n",
    "    \n",
    "    queue.append((root, 0))\n",
    "    level_nodes, ans = [], []\n",
    "    curr_level = 0\n",
    "    \n",
    "    while queue:\n",
    "        node, level = queue.popleft()\n",
    "        \n",
    "        if level == curr_level:\n",
    "            level_nodes.append(node.val)\n",
    "        else:\n",
    "            ans.append(level_nodes[:])\n",
    "            level_nodes = [node.val]\n",
    "            curr_level = level\n",
    "        \n",
    "        if node.left:\n",
    "            queue.append((node.left, level + 1))\n",
    "            \n",
    "        if node.right:\n",
    "            queue.append((node.right, level + 1))\n",
    "            \n",
    "    ans.append(level_nodes[:])\n",
    "        \n",
    "    return ans"
   ]
  },
  {
   "cell_type": "code",
   "execution_count": 41,
   "metadata": {},
   "outputs": [
    {
     "data": {
      "text/plain": [
       "[[1], [2, 3], [4, 5, 6, 7]]"
      ]
     },
     "execution_count": 41,
     "metadata": {},
     "output_type": "execute_result"
    }
   ],
   "source": [
    "n4 = Node(4)\n",
    "n5 = Node(5)\n",
    "n6 = Node(6) \n",
    "n7 = Node(7)\n",
    "n2 = Node(2, n4, n5)\n",
    "n3 = Node(3, n6, n7)\n",
    "n1 = Node(1, n2, n3)\n",
    "        \n",
    "binary_tree_level_order_traversal(n1)"
   ]
  },
  {
   "cell_type": "code",
   "execution_count": 42,
   "metadata": {},
   "outputs": [
    {
     "data": {
      "text/plain": [
       "[[1], [2, 3], [4, 5]]"
      ]
     },
     "execution_count": 42,
     "metadata": {},
     "output_type": "execute_result"
    }
   ],
   "source": [
    "n4 = Node(4)\n",
    "n5 = Node(5)\n",
    "\n",
    "n2 = Node(2, n4, n5)\n",
    "n3 = Node(3)\n",
    "\n",
    "n1 = Node(1, n2, n3)\n",
    "\n",
    "binary_tree_level_order_traversal(n1)"
   ]
  },
  {
   "cell_type": "code",
   "execution_count": 44,
   "metadata": {},
   "outputs": [
    {
     "name": "stderr",
     "output_type": "stream",
     "text": [
      "test_binary_tree_level_order_traversal (__main__.TestList) ... ok\n",
      "\n",
      "----------------------------------------------------------------------\n",
      "Ran 1 test in 0.001s\n",
      "\n",
      "OK\n"
     ]
    }
   ],
   "source": [
    "import unittest\n",
    "\n",
    "class TestList(unittest.TestCase):\n",
    "    \n",
    "    def test_binary_tree_level_order_traversal(self):\n",
    "        n4 = Node(4)\n",
    "        n5 = Node(5)\n",
    "        n6 = Node(6) \n",
    "        n7 = Node(7)\n",
    "        n2 = Node(2, n4, n5)\n",
    "        n3 = Node(3, n6, n7)\n",
    "        n1 = Node(1, n2, n3)\n",
    "        \n",
    "        ans = binary_tree_level_order_traversal(n1)\n",
    "        self.assertEqual(ans, [[1], [2, 3], [4, 5, 6, 7]])\n",
    "                \n",
    "unittest.main(argv=[''], verbosity=2, exit=False);"
   ]
  }
 ],
 "metadata": {
  "kernelspec": {
   "display_name": "Python 3",
   "language": "python",
   "name": "python3"
  },
  "language_info": {
   "codemirror_mode": {
    "name": "ipython",
    "version": 3
   },
   "file_extension": ".py",
   "mimetype": "text/x-python",
   "name": "python",
   "nbconvert_exporter": "python",
   "pygments_lexer": "ipython3",
   "version": "3.7.3"
  }
 },
 "nbformat": 4,
 "nbformat_minor": 2
}
