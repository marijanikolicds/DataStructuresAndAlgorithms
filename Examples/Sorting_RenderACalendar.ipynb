{
 "cells": [
  {
   "cell_type": "markdown",
   "metadata": {},
   "source": [
    "# Render A Calendar\n",
    "Determine the maximum number of events that take place concurrently.\n",
    "\n",
    "[Elements Of Programming Interviews](https://www.amazon.com/Elements-Programming-Interviews-Python-Insiders/dp/1537713949#:~:text=If%20so%2C%20you%20need%20to,asked%20at%20leading%20software%20companies.): 13. Sorting - 13.6 Render A Calendar"
   ]
  },
  {
   "cell_type": "code",
   "execution_count": 10,
   "metadata": {},
   "outputs": [],
   "source": [
    "import heapq\n",
    "\n",
    "# Time: O(nlogn)\n",
    "# Space: O(n)\n",
    "def render_a_calendar(events):\n",
    "    \n",
    "    max_concurrent, min_heap = 0, []    \n",
    "    events.sort(key = lambda e: e[0])\n",
    "    \n",
    "    for start, end in events:\n",
    "        while len(min_heap) > 0 and min_heap[0] < start:\n",
    "            heapq.heappop(min_heap)\n",
    "            \n",
    "        heapq.heappush(min_heap, end)\n",
    "        max_concurrent = max(max_concurrent, len(min_heap))\n",
    "        \n",
    "    return max_concurrent"
   ]
  },
  {
   "cell_type": "markdown",
   "metadata": {},
   "source": [
    "## Test"
   ]
  },
  {
   "cell_type": "code",
   "execution_count": 11,
   "metadata": {},
   "outputs": [
    {
     "name": "stderr",
     "output_type": "stream",
     "text": [
      "test_render_a_calendar (__main__.Test) ... ok\n",
      "\n",
      "----------------------------------------------------------------------\n",
      "Ran 1 test in 0.001s\n",
      "\n",
      "OK\n"
     ]
    }
   ],
   "source": [
    "import unittest\n",
    "\n",
    "class Test(unittest.TestCase):\n",
    "    \n",
    "    def test_render_a_calendar(self):\n",
    "        events = [[1, 7], [2, 4], [3, 5], [6, 9], [8, 10], [9, 11]]\n",
    "        self.assertEqual(render_a_calendar(events), 3)\n",
    "        \n",
    "        events = [[1, 17], [2, 4], [3, 5], [6, 9], [8, 10], [9, 11]]\n",
    "        self.assertEqual(render_a_calendar(events), 4)\n",
    "        \n",
    "        events = [[1, 2], [2, 4], [6, 9], [12, 14]]\n",
    "        self.assertEqual(render_a_calendar(events), 2)\n",
    "        \n",
    "unittest.main(argv=[''], verbosity=2, exit=False);"
   ]
  }
 ],
 "metadata": {
  "kernelspec": {
   "display_name": "Python 3",
   "language": "python",
   "name": "python3"
  },
  "language_info": {
   "codemirror_mode": {
    "name": "ipython",
    "version": 3
   },
   "file_extension": ".py",
   "mimetype": "text/x-python",
   "name": "python",
   "nbconvert_exporter": "python",
   "pygments_lexer": "ipython3",
   "version": "3.7.3"
  }
 },
 "nbformat": 4,
 "nbformat_minor": 2
}
