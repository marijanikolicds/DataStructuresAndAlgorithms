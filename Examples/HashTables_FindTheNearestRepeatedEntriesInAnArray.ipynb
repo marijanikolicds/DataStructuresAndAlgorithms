{
 "cells": [
  {
   "cell_type": "markdown",
   "metadata": {},
   "source": [
    "## FindTheNearestRepeatedEntriesInAnArray\n",
    "\n",
    "Write a program that takes as input an array and finds the distance between a closest pair of equal entries.\n",
    "\n",
    "[Elements Of Programming Interviews](https://www.amazon.com/Elements-Programming-Interviews-Python-Insiders/dp/1537713949#:~:text=If%20so%2C%20you%20need%20to,asked%20at%20leading%20software%20companies.): 12. Hash Tables - 12.5 Find The Nearest Repeated Entries In An Array"
   ]
  },
  {
   "cell_type": "code",
   "execution_count": 18,
   "metadata": {},
   "outputs": [],
   "source": [
    "import collections\n",
    "\n",
    "# Time: O(n)\n",
    "# Space: O(n)\n",
    "def find_nearest_repeated_entries(text):\n",
    "    word_to_idx = collections.defaultdict(int)\n",
    "    min_distance = float('inf')\n",
    "    \n",
    "    for idx, word in enumerate(text):\n",
    "        if word in word_to_idx:\n",
    "            min_distance = min(min_distance, idx - word_to_idx[word])\n",
    "        word_to_idx[word] = idx\n",
    "        \n",
    "    return min_distance if min_distance != float('inf') else -1"
   ]
  },
  {
   "cell_type": "markdown",
   "metadata": {},
   "source": [
    "## Test"
   ]
  },
  {
   "cell_type": "code",
   "execution_count": 19,
   "metadata": {},
   "outputs": [
    {
     "name": "stderr",
     "output_type": "stream",
     "text": [
      "test_find_nearest_repeated_entries (__main__.Test) ... ok\n",
      "\n",
      "----------------------------------------------------------------------\n",
      "Ran 1 test in 0.001s\n",
      "\n",
      "OK\n"
     ]
    }
   ],
   "source": [
    "import unittest\n",
    "\n",
    "class Test(unittest.TestCase):\n",
    "    \n",
    "    def test_find_nearest_repeated_entries(self):\n",
    "        text = ['all', 'work', 'and', 'no', 'play', 'makes', 'for', 'no', 'work', 'no', 'fun']\n",
    "        self.assertEqual(find_nearest_repeated_entries(text), 2)\n",
    "        \n",
    "        text = ['all', 'work', 'and', 'lot', 'of', 'play', 'makes', 'for', 'some', 'effort', 'plus', 'fun']\n",
    "        self.assertEqual(find_nearest_repeated_entries(text), -1)\n",
    "        \n",
    "unittest.main(argv=[''], verbosity=2, exit=False);"
   ]
  }
 ],
 "metadata": {
  "kernelspec": {
   "display_name": "Python 3",
   "language": "python",
   "name": "python3"
  },
  "language_info": {
   "codemirror_mode": {
    "name": "ipython",
    "version": 3
   },
   "file_extension": ".py",
   "mimetype": "text/x-python",
   "name": "python",
   "nbconvert_exporter": "python",
   "pygments_lexer": "ipython3",
   "version": "3.7.3"
  }
 },
 "nbformat": 4,
 "nbformat_minor": 2
}
