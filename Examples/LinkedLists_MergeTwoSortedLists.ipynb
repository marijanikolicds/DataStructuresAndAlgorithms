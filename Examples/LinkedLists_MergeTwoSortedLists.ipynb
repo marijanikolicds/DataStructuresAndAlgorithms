{
 "cells": [
  {
   "cell_type": "markdown",
   "metadata": {},
   "source": [
    "Merge two sorted linked lists and return it as a new sorted list. The new list should be made by splicing together the nodes of the first two lists.\n",
    "\n",
    "\n",
    "**Example:**\n",
    "\n",
    "Input: 1->2->4, 1->3->4     \n",
    "Output: 1->1->2->3->4->4\n",
    "\n",
    "\n",
    "**Reference:** [LeetCode](https://leetcode.com/problems/merge-two-sorted-lists/), [Elements Of Programming interviews - 7.1](https://www.amazon.com/Elements-Programming-Interviews-Python-Insiders/dp/1537713949#:~:text=If%20so%2C%20you%20need%20to,asked%20at%20leading%20software%20companies.)"
   ]
  },
  {
   "cell_type": "code",
   "execution_count": 24,
   "metadata": {},
   "outputs": [],
   "source": [
    "class ListNode:\n",
    "    def __init__(self, val = None, next = None):\n",
    "        self.val = val\n",
    "        self.next = next"
   ]
  },
  {
   "cell_type": "code",
   "execution_count": 25,
   "metadata": {},
   "outputs": [],
   "source": [
    "# Time: \n",
    "def merge_two_sorted_lists(l1, l2):\n",
    "    if not l1 and not l2:\n",
    "        return None\n",
    "    elif not l1:\n",
    "        return l2\n",
    "    elif not l2:\n",
    "        return l1\n",
    "    \n",
    "    head = ListNode()\n",
    "    tail = head\n",
    "        \n",
    "    while l1 and l2 :\n",
    "        if l1.val < l2.val:\n",
    "            tail.next = l1\n",
    "            l1 = l1.next\n",
    "        else:\n",
    "            tail.next = l2\n",
    "            l2 = l2.next\n",
    "        tail = tail.next\n",
    "        \n",
    "    if l1 is None:\n",
    "        tail.next = l2\n",
    "    else:\n",
    "        tail.next = l1\n",
    "        \n",
    "    return head.next"
   ]
  },
  {
   "cell_type": "markdown",
   "metadata": {},
   "source": [
    "## Test"
   ]
  },
  {
   "cell_type": "code",
   "execution_count": 26,
   "metadata": {},
   "outputs": [
    {
     "name": "stdout",
     "output_type": "stream",
     "text": [
      "2\n",
      "3\n",
      "5\n",
      "7\n",
      "11\n"
     ]
    }
   ],
   "source": [
    "n7 = ListNode(7)\n",
    "n5 = ListNode(5, n7)\n",
    "n2 = ListNode(2, n5)\n",
    "l1 = n2\n",
    "\n",
    "n11 = ListNode(11)\n",
    "n3 = ListNode(3, n11)\n",
    "l2 = n3\n",
    "\n",
    "h = merge_two_sorted_lists(l1, l2)\n",
    "\n",
    "while h != None:\n",
    "    print(h.val)\n",
    "    h = h.next"
   ]
  }
 ],
 "metadata": {
  "kernelspec": {
   "display_name": "Python 3",
   "language": "python",
   "name": "python3"
  },
  "language_info": {
   "codemirror_mode": {
    "name": "ipython",
    "version": 3
   },
   "file_extension": ".py",
   "mimetype": "text/x-python",
   "name": "python",
   "nbconvert_exporter": "python",
   "pygments_lexer": "ipython3",
   "version": "3.7.3"
  }
 },
 "nbformat": 4,
 "nbformat_minor": 2
}
