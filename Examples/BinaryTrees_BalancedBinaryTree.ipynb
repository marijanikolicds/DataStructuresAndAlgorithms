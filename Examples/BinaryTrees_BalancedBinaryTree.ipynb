{
 "cells": [
  {
   "cell_type": "markdown",
   "metadata": {},
   "source": [
    "# Balanced Binary Tree\n",
    "\n",
    "\n",
    "Given a binary tree, determine if it is height-balanced.\n",
    "\n",
    "For this problem, a height-balanced binary tree is defined as: a binary tree in which the left and right subtrees of every node differ in height by no more than 1.\n",
    "\n",
    " \n",
    "\n",
    "**Example 1:**\n",
    "\n",
    "Given the following tree [3,9,20,null,null,15,7]:\n",
    "Return true.\n",
    "\n",
    "**Example 2:**\n",
    "\n",
    "Given the following tree [1,2,2,3,3,null,null,4,4]:\n",
    "Return false.\n",
    "   \n",
    "\n",
    "**Reference:** \n",
    "\n",
    "[LeetCode: 110. Balanced Binary Tree](https://leetcode.com/problems/balanced-binary-tree/)     \n",
    "[Elements Of Programming Interviews](https://www.amazon.com/Elements-Programming-Interviews-Python-Insiders/dp/1537713949#:~:text=If%20so%2C%20you%20need%20to,asked%20at%20leading%20software%20companies.): 9. Binary Trees - 9.1 Test if a binary tree is height-balanced"
   ]
  },
  {
   "cell_type": "code",
   "execution_count": 5,
   "metadata": {},
   "outputs": [],
   "source": [
    "# Time: O(n), n - number of tree nodes\n",
    "# Space: O(h), h - tree height (min = log(n), max = n)\n",
    "def balanced_binary_tree(node):\n",
    "    if node is None:\n",
    "        return (0, True)\n",
    "    \n",
    "    left = balanced_binary_tree(node.left)\n",
    "    if left[1] is False:\n",
    "        return left\n",
    "    \n",
    "    right = balanced_binary_tree(node.right)\n",
    "    if right[1] is False:\n",
    "        return right\n",
    "    \n",
    "    diff = abs(left[0] - right[0])\n",
    "    height = max(left[0], right[0]) + 1\n",
    "    \n",
    "    return (height, diff <= 1)"
   ]
  },
  {
   "cell_type": "markdown",
   "metadata": {},
   "source": [
    "## Test"
   ]
  },
  {
   "cell_type": "code",
   "execution_count": 6,
   "metadata": {},
   "outputs": [],
   "source": [
    "class Node:\n",
    "    def __init__(self, val = None, left = None, right = None):\n",
    "        self.val = val\n",
    "        self.left = left\n",
    "        self.right = right"
   ]
  },
  {
   "cell_type": "code",
   "execution_count": 7,
   "metadata": {},
   "outputs": [
    {
     "name": "stderr",
     "output_type": "stream",
     "text": [
      "test_balanced_binary_tree_balanced (__main__.Test) ... ok\n",
      "test_balanced_binary_tree_empty (__main__.Test) ... ok\n",
      "test_balanced_binary_tree_inbalanced (__main__.Test) ... ok\n",
      "\n",
      "----------------------------------------------------------------------\n",
      "Ran 3 tests in 0.004s\n",
      "\n",
      "OK\n"
     ]
    }
   ],
   "source": [
    "import unittest\n",
    "\n",
    "class Test(unittest.TestCase):\n",
    "    \n",
    "    def test_balanced_binary_tree_balanced(self):\n",
    "        n4 = Node(4)\n",
    "        n5 = Node(5)\n",
    "        n6 = Node(6) \n",
    "        n7 = Node(7)\n",
    "        n2 = Node(2, n4, n5)\n",
    "        n3 = Node(3, n6, n7)\n",
    "        n1 = Node(1, n2, n3)\n",
    "        \n",
    "        ans = balanced_binary_tree(n1)\n",
    "        self.assertEqual(ans[1], True)\n",
    "        \n",
    "    def test_balanced_binary_tree_inbalanced(self):\n",
    "        n6 = Node(6) \n",
    "        n7 = Node(7)\n",
    "        n3 = Node(3, n6, n7)\n",
    "        n1 = Node(1, None, n3)\n",
    "        \n",
    "        ans = balanced_binary_tree(n1)\n",
    "        self.assertEqual(ans[1], False)\n",
    "        \n",
    "    def test_balanced_binary_tree_empty(self):\n",
    "        \n",
    "        ans = balanced_binary_tree(None)\n",
    "        self.assertEqual(ans[1], True)\n",
    "                \n",
    "unittest.main(argv=[''], verbosity=2, exit=False);"
   ]
  }
 ],
 "metadata": {
  "kernelspec": {
   "display_name": "Python 3",
   "language": "python",
   "name": "python3"
  },
  "language_info": {
   "codemirror_mode": {
    "name": "ipython",
    "version": 3
   },
   "file_extension": ".py",
   "mimetype": "text/x-python",
   "name": "python",
   "nbconvert_exporter": "python",
   "pygments_lexer": "ipython3",
   "version": "3.7.3"
  }
 },
 "nbformat": 4,
 "nbformat_minor": 2
}
