{
 "cells": [
  {
   "cell_type": "markdown",
   "metadata": {},
   "source": [
    "# Sort An Almost Sorted Array\n",
    "Write a program that takes as input a k-sorted array (each number is atmost k numbers away from its correct \n",
    "sorted position).\n",
    "\n",
    "[Elements Of Programming Interviews](https://www.amazon.com/Elements-Programming-Interviews-Python-Insiders/dp/1537713949#:~:text=If%20so%2C%20you%20need%20to,asked%20at%20leading%20software%20companies.): 10. Heaps - 10.3 Sort An Almost Sorted Array"
   ]
  },
  {
   "cell_type": "code",
   "execution_count": 7,
   "metadata": {},
   "outputs": [],
   "source": [
    "import heapq\n",
    "\n",
    "# Time: O(nlogk), n - number of elements in unput array\n",
    "# Space: O(n + k), n - size of new sorted array, k - size of heap \n",
    "def sort_an_almost_sorted_array(nums, k):\n",
    "    ans, min_heap = [], []    \n",
    "    \n",
    "    for i in range(k):\n",
    "        heapq.heappush(min_heap, nums[i])\n",
    "        \n",
    "    for i in range(k, len(nums)):\n",
    "        min_element = heapq.heappushpop(min_heap, nums[i])\n",
    "        ans.append(min_element)\n",
    "        \n",
    "    ans.extend(min_heap)\n",
    "    return ans\n",
    "    "
   ]
  },
  {
   "cell_type": "markdown",
   "metadata": {},
   "source": [
    "## Test"
   ]
  },
  {
   "cell_type": "code",
   "execution_count": 8,
   "metadata": {},
   "outputs": [
    {
     "name": "stderr",
     "output_type": "stream",
     "text": [
      "test_sort_an_almost_sorted_array (__main__.Test) ... ok\n",
      "\n",
      "----------------------------------------------------------------------\n",
      "Ran 1 test in 0.001s\n",
      "\n",
      "OK\n"
     ]
    }
   ],
   "source": [
    "import unittest\n",
    "\n",
    "class Test(unittest.TestCase):\n",
    "    \n",
    "    def test_sort_an_almost_sorted_array(self):\n",
    "        nums = [3,-1,2,6,4,5,8]\n",
    "        self.assertEqual(sort_an_almost_sorted_array(nums, 2), [-1, 2, 3, 4, 5, 6, 8])\n",
    "        \n",
    "unittest.main(argv=[''], verbosity=2, exit=False);"
   ]
  }
 ],
 "metadata": {
  "kernelspec": {
   "display_name": "Python 3",
   "language": "python",
   "name": "python3"
  },
  "language_info": {
   "codemirror_mode": {
    "name": "ipython",
    "version": 3
   },
   "file_extension": ".py",
   "mimetype": "text/x-python",
   "name": "python",
   "nbconvert_exporter": "python",
   "pygments_lexer": "ipython3",
   "version": "3.7.3"
  }
 },
 "nbformat": 4,
 "nbformat_minor": 2
}
