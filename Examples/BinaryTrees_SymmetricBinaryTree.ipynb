{
 "cells": [
  {
   "cell_type": "markdown",
   "metadata": {},
   "source": [
    "# Symmetric Binary Tree\n",
    "\n",
    "Given a binary tree, check whether it is a mirror of itself (ie, symmetric around its center).\n",
    "\n",
    "**Example 1:**\n",
    "This binary tree [1,2,2,3,4,4,3] is symmetric\n",
    " \n",
    "**Example 2:**\n",
    "This binary tree [1,2,2,null,3,null,3] is not symmetric\n",
    "   \n",
    "\n",
    "**Reference:** \n",
    "\n",
    "[LeetCode: 101. Symmetric Tree](https://leetcode.com/problems/symmetric-tree/)     \n",
    "[Elements Of Programming Interviews](https://www.amazon.com/Elements-Programming-Interviews-Python-Insiders/dp/1537713949#:~:text=If%20so%2C%20you%20need%20to,asked%20at%20leading%20software%20companies.): 9. Binary Trees - 9.2 Test if a binary tree is symmetric"
   ]
  },
  {
   "cell_type": "code",
   "execution_count": 18,
   "metadata": {},
   "outputs": [],
   "source": [
    "def symmetric_binary_tree(root):\n",
    "    \n",
    "    def symmetric_binary_tree_util(root1, root2):\n",
    "        if not root1 and not root2:\n",
    "            return True\n",
    "        \n",
    "        if (root1 and not root2) or (not root1 and root2):\n",
    "            return False\n",
    "        \n",
    "        return root1.val == root2.val and\\\n",
    "                symmetric_binary_tree_util(root1.left, root2.right) and\\\n",
    "                symmetric_binary_tree_util(root1.right, root2.left)\n",
    "    \n",
    "    if root is None:\n",
    "        return True\n",
    "\n",
    "    return symmetric_binary_tree_util(root.left, root.right)"
   ]
  },
  {
   "cell_type": "markdown",
   "metadata": {},
   "source": [
    "## Test"
   ]
  },
  {
   "cell_type": "code",
   "execution_count": 19,
   "metadata": {},
   "outputs": [],
   "source": [
    "class Node:\n",
    "    def __init__(self, val = None, left = None, right = None):\n",
    "        self.val = val\n",
    "        self.left = left\n",
    "        self.right = right"
   ]
  },
  {
   "cell_type": "code",
   "execution_count": 20,
   "metadata": {},
   "outputs": [
    {
     "name": "stderr",
     "output_type": "stream",
     "text": [
      "test_symmetric_binary_tree_symmetric_1 (__main__.TestList) ... ok\n",
      "test_symmetric_binary_tree_symmetric_2 (__main__.TestList) ... ok\n",
      "test_symmetric_binary_tree_symmetric_3 (__main__.TestList) ... ok\n",
      "\n",
      "----------------------------------------------------------------------\n",
      "Ran 3 tests in 0.002s\n",
      "\n",
      "OK\n"
     ]
    }
   ],
   "source": [
    "import unittest\n",
    "\n",
    "class TestList(unittest.TestCase):\n",
    "    \n",
    "    def test_symmetric_binary_tree_symmetric_1(self):\n",
    "\n",
    "        ans = symmetric_binary_tree(Node(1, None, None))\n",
    "        self.assertEqual(ans, True)\n",
    "        \n",
    "    def test_symmetric_binary_tree_symmetric_2(self):\n",
    "        n2 = Node(2, Node(3), Node(4))\n",
    "        n3 = Node(2, Node(4), Node(3))\n",
    "        n1 = Node(1, n2, n3)\n",
    "        \n",
    "        ans = symmetric_binary_tree(n1)\n",
    "        self.assertEqual(ans, True)\n",
    "        \n",
    "    def test_symmetric_binary_tree_symmetric_3(self):\n",
    "        n4 = Node(4)\n",
    "        n5 = Node(5)\n",
    "        n6 = Node(6) \n",
    "        n7 = Node(7)\n",
    "        n2 = Node(2, n4, n5)\n",
    "        n3 = Node(3, n6, n7)\n",
    "        n1 = Node(1, n2, n3)\n",
    "        \n",
    "        ans = symmetric_binary_tree(n1)\n",
    "        self.assertEqual(ans, False)\n",
    "                \n",
    "unittest.main(argv=[''], verbosity=2, exit=False);"
   ]
  }
 ],
 "metadata": {
  "kernelspec": {
   "display_name": "Python 3",
   "language": "python",
   "name": "python3"
  },
  "language_info": {
   "codemirror_mode": {
    "name": "ipython",
    "version": 3
   },
   "file_extension": ".py",
   "mimetype": "text/x-python",
   "name": "python",
   "nbconvert_exporter": "python",
   "pygments_lexer": "ipython3",
   "version": "3.7.3"
  }
 },
 "nbformat": 4,
 "nbformat_minor": 2
}
