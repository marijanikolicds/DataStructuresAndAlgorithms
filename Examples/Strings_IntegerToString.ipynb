{
 "cells": [
  {
   "cell_type": "markdown",
   "metadata": {},
   "source": [
    "# Integer to string conversion\n",
    "\n",
    "Implement an integer to string conversion.\n",
    "\n",
    "**Example 1:**   \n",
    "\n",
    "Input: 42   \n",
    "Output: \"42\"   \n",
    "\n",
    "**Example 2:**   \n",
    "\n",
    "Input: -42   \n",
    "Output: \"-42\"   \n",
    "\n",
    "**Reference:** \n",
    "\n",
    "[LeetCode: 7. Reverse Integer](https://leetcode.com/problems/reverse-integer/)    \n",
    "[Elements Of Programming interviews](https://www.amazon.com/Elements-Programming-Interviews-Python-Insiders/dp/1537713949#:~:text=If%20so%2C%20you%20need%20to,asked%20at%20leading%20software%20companies.): 6. Strings - 6.1 Interconvert strings and integers"
   ]
  },
  {
   "cell_type": "code",
   "execution_count": 17,
   "metadata": {},
   "outputs": [],
   "source": [
    "# Time: O(n), n - number of digits\n",
    "# Space: O(n)\n",
    "def integer_to_sting(number):\n",
    "    \n",
    "    sign = \"\"\n",
    "    if number < 0:\n",
    "        sign = \"-\"\n",
    "        number *= -1\n",
    "        \n",
    "    s = []\n",
    "    while number > 0:\n",
    "        digit = number % 10\n",
    "        s.append(chr(digit + ord('0')))\n",
    "        number = number // 10\n",
    "        \n",
    "    if len(sign) > 0:\n",
    "        s.append(sign)\n",
    "        \n",
    "    return ''.join(reversed(s))"
   ]
  },
  {
   "cell_type": "markdown",
   "metadata": {},
   "source": [
    "## Test"
   ]
  },
  {
   "cell_type": "code",
   "execution_count": 18,
   "metadata": {},
   "outputs": [
    {
     "name": "stdout",
     "output_type": "stream",
     "text": [
      "42\n"
     ]
    }
   ],
   "source": [
    "number = 42\n",
    "ans = integer_to_sting(number)\n",
    "print(ans)"
   ]
  },
  {
   "cell_type": "code",
   "execution_count": 19,
   "metadata": {},
   "outputs": [
    {
     "name": "stdout",
     "output_type": "stream",
     "text": [
      "-42\n"
     ]
    }
   ],
   "source": [
    "number = -42\n",
    "ans = integer_to_sting(number)\n",
    "print(ans)"
   ]
  }
 ],
 "metadata": {
  "kernelspec": {
   "display_name": "Python 3",
   "language": "python",
   "name": "python3"
  },
  "language_info": {
   "codemirror_mode": {
    "name": "ipython",
    "version": 3
   },
   "file_extension": ".py",
   "mimetype": "text/x-python",
   "name": "python",
   "nbconvert_exporter": "python",
   "pygments_lexer": "ipython3",
   "version": "3.7.3"
  }
 },
 "nbformat": 4,
 "nbformat_minor": 2
}
