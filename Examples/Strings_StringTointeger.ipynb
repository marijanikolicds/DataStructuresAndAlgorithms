{
 "cells": [
  {
   "cell_type": "markdown",
   "metadata": {},
   "source": [
    "# String to integer conversion\n",
    "\n",
    "Implement string to integer conversion (atoi) which converts a string to an integer.\n",
    "\n",
    "The function first discards as many whitespace characters as necessary until the first non-whitespace character is found. Then, starting from this character, takes an optional initial plus or minus sign followed by as many numerical digits as possible, and interprets them as a numerical value.\n",
    "\n",
    "The string can contain additional characters after those that form the integral number, which are ignored and have no effect on the behavior of this function.\n",
    "\n",
    "If the first sequence of non-whitespace characters in str is not a valid integral number, or if no such sequence exists because either str is empty or it contains only whitespace characters, no conversion is performed.\n",
    "\n",
    "If no valid conversion could be performed, a zero value is returned.\n",
    "\n",
    "**Example 1:**   \n",
    "\n",
    "Input: \"42\"   \n",
    "Output: 42   \n",
    "\n",
    "**Example 2:**   \n",
    "\n",
    "Input: \"   -42\"   \n",
    "Output: -42   \n",
    "Explanation: The first non-whitespace character is '-', which is the minus sign.\n",
    "             Then take as many numerical digits as possible, which gets 42.   \n",
    "\n",
    "**Example 3:**   \n",
    "\n",
    "Input: \"4193 with words\"   \n",
    "Output: 4193   \n",
    "Explanation: Conversion stops at digit '3' as the next character is not a numerical digit. \n",
    "\n",
    "**Example 4:**   \n",
    "\n",
    "Input: \"   +42\"   \n",
    "Output: 42\n",
    "\n",
    "**Reference:** \n",
    "\n",
    "[LeetCode: 8. String to Integer (atoi)](https://leetcode.com/problems/string-to-integer-atoi/)    \n",
    "[Elements Of Programming interviews](https://www.amazon.com/Elements-Programming-Interviews-Python-Insiders/dp/1537713949#:~:text=If%20so%2C%20you%20need%20to,asked%20at%20leading%20software%20companies.): 6. Strings - 6.1 Interconvert strings and integers"
   ]
  },
  {
   "cell_type": "code",
   "execution_count": 16,
   "metadata": {},
   "outputs": [],
   "source": [
    "def string_to_integer(s):\n",
    "    s = s.strip()\n",
    "    \n",
    "    if len(s) == 0:\n",
    "        return None\n",
    "    \n",
    "    idx, sign = 0, 1\n",
    "    if s[0] == '-':\n",
    "        idx += 1\n",
    "        sign = -1\n",
    "    elif s[0] == '+':\n",
    "        idx += 1\n",
    "        \n",
    "    number = 0\n",
    "    while idx < len(s) and s[idx].isdigit():\n",
    "        digit = ord(s[idx]) - ord('0')\n",
    "        number = number * 10 + digit\n",
    "        idx += 1\n",
    "        \n",
    "    return number * sign"
   ]
  },
  {
   "cell_type": "markdown",
   "metadata": {},
   "source": [
    "## Test"
   ]
  },
  {
   "cell_type": "code",
   "execution_count": 17,
   "metadata": {},
   "outputs": [
    {
     "name": "stdout",
     "output_type": "stream",
     "text": [
      "42\n"
     ]
    }
   ],
   "source": [
    "s = '42'\n",
    "print(string_to_integer(s))"
   ]
  },
  {
   "cell_type": "code",
   "execution_count": 18,
   "metadata": {},
   "outputs": [
    {
     "name": "stdout",
     "output_type": "stream",
     "text": [
      "42\n"
     ]
    }
   ],
   "source": [
    "s = '   42   '\n",
    "print(string_to_integer(s))"
   ]
  },
  {
   "cell_type": "code",
   "execution_count": 19,
   "metadata": {},
   "outputs": [
    {
     "name": "stdout",
     "output_type": "stream",
     "text": [
      "-42\n"
     ]
    }
   ],
   "source": [
    "s = '-42'\n",
    "print(string_to_integer(s))"
   ]
  },
  {
   "cell_type": "code",
   "execution_count": 20,
   "metadata": {},
   "outputs": [
    {
     "name": "stdout",
     "output_type": "stream",
     "text": [
      "4193\n"
     ]
    }
   ],
   "source": [
    "s = '4193 with words'\n",
    "print(string_to_integer(s))"
   ]
  },
  {
   "cell_type": "code",
   "execution_count": 21,
   "metadata": {},
   "outputs": [
    {
     "name": "stdout",
     "output_type": "stream",
     "text": [
      "42\n"
     ]
    }
   ],
   "source": [
    "s = '+42'\n",
    "print(string_to_integer(s))"
   ]
  },
  {
   "cell_type": "code",
   "execution_count": 22,
   "metadata": {},
   "outputs": [
    {
     "name": "stdout",
     "output_type": "stream",
     "text": [
      "0\n"
     ]
    }
   ],
   "source": [
    "s = ' abc '\n",
    "print(string_to_integer(s))"
   ]
  }
 ],
 "metadata": {
  "kernelspec": {
   "display_name": "Python 3",
   "language": "python",
   "name": "python3"
  },
  "language_info": {
   "codemirror_mode": {
    "name": "ipython",
    "version": 3
   },
   "file_extension": ".py",
   "mimetype": "text/x-python",
   "name": "python",
   "nbconvert_exporter": "python",
   "pygments_lexer": "ipython3",
   "version": "3.7.3"
  }
 },
 "nbformat": 4,
 "nbformat_minor": 2
}
