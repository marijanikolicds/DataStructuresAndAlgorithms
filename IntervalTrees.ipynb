{
 "cells": [
  {
   "cell_type": "code",
   "execution_count": 192,
   "metadata": {},
   "outputs": [],
   "source": [
    "class Node:\n",
    "    def __init__(self, lo = None, hi = None, max_endpoint = None, val = None):\n",
    "        self.lo = lo\n",
    "        self.hi = hi\n",
    "        self.max_endpoint = max_endpoint\n",
    "        self.left = None\n",
    "        self.right = None\n",
    "        self.val = val\n",
    "        \n",
    "    def intersects(self, lo, hi):\n",
    "        return self.lo <= hi and self.hi >= lo"
   ]
  },
  {
   "cell_type": "code",
   "execution_count": 193,
   "metadata": {},
   "outputs": [],
   "source": [
    "# Time: O(logn) - RB balancing\n",
    "def insert(node, lo, hi, val = None):\n",
    "    if node is None:\n",
    "        return Node(lo, hi, hi, val)\n",
    "    \n",
    "    if lo < node.lo:\n",
    "        node.left = insert(node.left, lo, hi, val)\n",
    "    else:\n",
    "        node.right = insert(node.right, lo, hi, val)\n",
    "        \n",
    "    if hi > node.max_endpoint:\n",
    "        node.max_endpoint = hi\n",
    "        \n",
    "    return node"
   ]
  },
  {
   "cell_type": "code",
   "execution_count": 194,
   "metadata": {},
   "outputs": [],
   "source": [
    "def find_min(node):\n",
    "    curr = node\n",
    "    while curr.left:\n",
    "        curr = curr.left\n",
    "        \n",
    "    return curr"
   ]
  },
  {
   "cell_type": "code",
   "execution_count": 195,
   "metadata": {},
   "outputs": [],
   "source": [
    "def delete_min(node):\n",
    "    if node.left is None:\n",
    "        return node.right\n",
    "    node.left = delete_min(node.left)\n",
    "    return node"
   ]
  },
  {
   "cell_type": "code",
   "execution_count": 196,
   "metadata": {},
   "outputs": [],
   "source": [
    "# Time: O(logn) - RB balancing\n",
    "def delete(node, lo, hi):\n",
    "    if node is None:\n",
    "        return\n",
    "    \n",
    "    if lo < node.lo:\n",
    "        node.left = delete(node.left, lo, hi)\n",
    "    elif lo > node.lo:\n",
    "        node.right = delete(node.right, lo, hi)\n",
    "    elif node.lo == lo and node.hi == hi:\n",
    "        if node.left is None:\n",
    "            return node.right\n",
    "        elif node.right is None:\n",
    "            return node.left\n",
    "        else:\n",
    "            t = node\n",
    "            min_node = find_min(node.right)\n",
    "            node.lo = min_node.lo\n",
    "            node.hi = min_node.hi\n",
    "            node.right = delete_min(node.right)\n",
    "    return node"
   ]
  },
  {
   "cell_type": "code",
   "execution_count": 197,
   "metadata": {},
   "outputs": [],
   "source": [
    "# Time: O(logn) - RB balancing\n",
    "def search(node, lo, hi):\n",
    "    \n",
    "    x = node\n",
    "    \n",
    "    while x != None:\n",
    "        if x.intersects(lo, hi):\n",
    "            return (x.lo, x.hi) \n",
    "        elif x.left is None:\n",
    "            x = x.right\n",
    "        elif x.left.max_endpoint < lo:\n",
    "            x = x.right\n",
    "        else:\n",
    "            x = x.left"
   ]
  },
  {
   "cell_type": "code",
   "execution_count": 198,
   "metadata": {},
   "outputs": [],
   "source": [
    "# Time: O(rlogn) - r: number of intervals that intersect - RB balancing\n",
    "def find_all(x, lo, hi, q):\n",
    "    if x is None:\n",
    "        return\n",
    "    if x.intersects(lo, hi):\n",
    "        q.append((x.lo, x.hi, x.val))\n",
    "        find_all(x.left, lo, hi, q)\n",
    "        find_all(x.right, lo, hi, q)\n",
    "    elif x.left is None:\n",
    "        find_all(x.right, lo, hi, q)\n",
    "    elif x.left.max_endpoint < lo:\n",
    "        find_all(x.right, lo, hi, q)\n",
    "    else:\n",
    "        find_all(x.left, lo, hi, q)"
   ]
  }
 ],
 "metadata": {
  "kernelspec": {
   "display_name": "Python 3",
   "language": "python",
   "name": "python3"
  },
  "language_info": {
   "codemirror_mode": {
    "name": "ipython",
    "version": 3
   },
   "file_extension": ".py",
   "mimetype": "text/x-python",
   "name": "python",
   "nbconvert_exporter": "python",
   "pygments_lexer": "ipython3",
   "version": "3.7.3"
  }
 },
 "nbformat": 4,
 "nbformat_minor": 2
}
