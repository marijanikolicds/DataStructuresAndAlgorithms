{
 "cells": [
  {
   "cell_type": "markdown",
   "metadata": {},
   "source": [
    "Segment tree: each node stores the left and right interval endpoints and the interval sum. \n",
    "Leaves store elements of the array. \n",
    "Internal nodes store the sum of its child nodes.\n",
    "Tree creation: O(n). \n",
    "Range sum and update: O(log n)."
   ]
  },
  {
   "cell_type": "code",
   "execution_count": null,
   "metadata": {},
   "outputs": [],
   "source": [
    "class Node:\n",
    "    def __init__(self, lo, hi):\n",
    "        self.lo = lo\n",
    "        self.hi = hi\n",
    "        self.val = 0\n",
    "        self.left = None\n",
    "        self.right = None"
   ]
  },
  {
   "cell_type": "code",
   "execution_count": 108,
   "metadata": {},
   "outputs": [],
   "source": [
    "class SegmentTree:\n",
    "    \n",
    "    # Time O(n)\n",
    "    # Space: O(n)\n",
    "    def __init__(self, nums):\n",
    "        def create_tree(lo, hi):\n",
    "            if lo > hi:\n",
    "                return None\n",
    "            \n",
    "            if lo == hi:\n",
    "                node = Node(lo, hi)\n",
    "                node.val = nums[lo]\n",
    "                return node\n",
    "            \n",
    "            mid = lo + (hi - lo) // 2\n",
    "            \n",
    "            node = Node(lo, hi)\n",
    "            node.left = create_tree(lo, mid)\n",
    "            node.right = create_tree(mid + 1, hi)\n",
    "            node.val = node.left.val + node.right.val\n",
    "            \n",
    "            return node\n",
    "        self.root = create_tree(0, len(nums) - 1)\n",
    "        \n",
    "    # Time O(logn)\n",
    "    def update(self, idx, val):\n",
    "        def update_util(node, idx, val):\n",
    "            if node.lo == node.hi:\n",
    "                node.val = val\n",
    "                return\n",
    "            \n",
    "            mid = node.lo + (node.hi - node.lo) // 2\n",
    "            \n",
    "            if idx <= mid:\n",
    "                update_util(node.left, idx, val)\n",
    "            else:\n",
    "                update_util(node.right, idx, val)\n",
    "                \n",
    "            node.val = node.left.val + node.right.val\n",
    "            \n",
    "        update_util(self.root, idx, val)\n",
    "    \n",
    "    # Time O(logn)\n",
    "    def range_sum(self, i, j):\n",
    "        def range_sum_util(root, i, j):\n",
    "            \n",
    "            if root.lo == i and root.hi == j:\n",
    "                return root.val\n",
    "            \n",
    "            mid = (root.lo + root.hi) // 2\n",
    "            \n",
    "            if j <= mid:\n",
    "                return range_sum_util(root.left, i, j)\n",
    "            elif i >= mid + 1:\n",
    "                return range_sum_util(root.right, i, j)\n",
    "            else:\n",
    "                return range_sum_util(root.left, i, mid) + range_sum_util(root.right, mid+1, j)\n",
    "        \n",
    "        return range_sum_util(self.root, i, j)"
   ]
  }
 ],
 "metadata": {
  "kernelspec": {
   "display_name": "Python 3",
   "language": "python",
   "name": "python3"
  },
  "language_info": {
   "codemirror_mode": {
    "name": "ipython",
    "version": 3
   },
   "file_extension": ".py",
   "mimetype": "text/x-python",
   "name": "python",
   "nbconvert_exporter": "python",
   "pygments_lexer": "ipython3",
   "version": "3.7.3"
  }
 },
 "nbformat": 4,
 "nbformat_minor": 2
}
