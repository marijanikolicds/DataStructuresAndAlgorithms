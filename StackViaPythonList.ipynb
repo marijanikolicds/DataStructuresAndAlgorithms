{
 "cells": [
  {
   "cell_type": "code",
   "execution_count": 15,
   "metadata": {},
   "outputs": [],
   "source": [
    "class Stack:\n",
    "    def __init__(self):\n",
    "        self.data = []\n",
    "        self.idx = 0\n",
    "     \n",
    "    # Time: O(1)\n",
    "    def push(self, val):\n",
    "        self.data.append(val)\n",
    "    \n",
    "    # Time: O(1)\n",
    "    def peak(self):\n",
    "        if len(self.data) > 0:\n",
    "            return self.data[-1]\n",
    "        else:\n",
    "            raise IndexError('peak(): empty stack')\n",
    "            \n",
    "    # Time: O(1)\n",
    "    def pop(self):\n",
    "        if len(self.data) > 0:\n",
    "            val = self.data.pop()\n",
    "            return val\n",
    "        else:\n",
    "            raise IndexError('pop(): empty stack')\n",
    "            \n",
    "    def __iter__(self):\n",
    "        return self\n",
    "    \n",
    "    def __next__(self):\n",
    "        if self.idx == len(self.data) :\n",
    "            raise StopIteration()\n",
    "        else:\n",
    "            val = self.data[self.idx]\n",
    "            self.idx += 1\n",
    "            return val"
   ]
  }
 ],
 "metadata": {
  "kernelspec": {
   "display_name": "Python 3",
   "language": "python",
   "name": "python3"
  },
  "language_info": {
   "codemirror_mode": {
    "name": "ipython",
    "version": 3
   },
   "file_extension": ".py",
   "mimetype": "text/x-python",
   "name": "python",
   "nbconvert_exporter": "python",
   "pygments_lexer": "ipython3",
   "version": "3.7.3"
  }
 },
 "nbformat": 4,
 "nbformat_minor": 2
}
