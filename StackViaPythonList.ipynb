{
 "cells": [
  {
   "cell_type": "markdown",
   "metadata": {},
   "source": [
    "# Stack\n",
    "\n",
    "Stack supports last-in, first-out semantics for inserts and deletes. It has three basic operations: \n",
    "* _push_: adds an element at the top of the stack, \n",
    "* _peak_: returns the value of the top element of the stack  - lastly added element,\n",
    "* _pop_: removes of the top element of the stack - lastly added element. \n",
    "\n",
    "If the stack is empty, _peak_ and _pop_ throw an exception.   \n",
    "All operations have _O(1)_ time complexity. "
   ]
  },
  {
   "cell_type": "code",
   "execution_count": 11,
   "metadata": {},
   "outputs": [],
   "source": [
    "class Stack:\n",
    "    def __init__(self):\n",
    "        self.data = []\n",
    "        self.idx = 0\n",
    "     \n",
    "    # Time: O(1)\n",
    "    def push(self, val):\n",
    "        self.data.append(val)\n",
    "    \n",
    "    # Time: O(1)\n",
    "    def peek(self):\n",
    "        if len(self.data) > 0:\n",
    "            return self.data[-1]\n",
    "        else:\n",
    "            raise IndexError('peak(): empty stack')\n",
    "            \n",
    "    # Time: O(1)\n",
    "    def pop(self):\n",
    "        if len(self.data) > 0:\n",
    "            return self.data.pop()\n",
    "        else:\n",
    "            raise IndexError('pop(): empty stack')\n",
    "            \n",
    "    def __iter__(self):\n",
    "        return self\n",
    "    \n",
    "    def __next__(self):\n",
    "        if self.idx == len(self.data) :\n",
    "            raise StopIteration()\n",
    "        else:\n",
    "            val = self.data[self.idx]\n",
    "            self.idx += 1\n",
    "            return val"
   ]
  },
  {
   "cell_type": "code",
   "execution_count": 10,
   "metadata": {},
   "outputs": [
    {
     "name": "stderr",
     "output_type": "stream",
     "text": [
      "test_empty_stack (__main__.TestList) ... ok\n",
      "test_insert (__main__.TestList) ... ok\n",
      "test_peek (__main__.TestList) ... ok\n",
      "test_pop (__main__.TestList) ... ok\n",
      "\n",
      "----------------------------------------------------------------------\n",
      "Ran 4 tests in 0.003s\n",
      "\n",
      "OK\n"
     ]
    }
   ],
   "source": [
    "import unittest\n",
    "\n",
    "class TestList(unittest.TestCase):\n",
    "    \n",
    "    def test_insert(self):\n",
    "        stack = Stack()\n",
    "        \n",
    "        stack.push(1)\n",
    "        self.assertEqual(stack.peek(), 1)\n",
    "        \n",
    "        stack.push(2)\n",
    "        self.assertEqual(stack.peek(), 2)\n",
    "        \n",
    "        stack.push(3)\n",
    "        self.assertEqual(stack.peek(), 3)\n",
    "\n",
    "        \n",
    "    def test_peek(self):\n",
    "        stack = Stack()\n",
    "        \n",
    "        stack.push(1)\n",
    "        self.assertEqual(stack.peek(), 1)\n",
    "        \n",
    "        stack.push(2)\n",
    "        self.assertEqual(stack.peek(), 2)\n",
    "        \n",
    "        stack.push(3)\n",
    "        self.assertEqual(stack.peek(), 3)\n",
    "        \n",
    "    def test_pop(self):\n",
    "        stack = Stack()\n",
    "        stack.push(1)\n",
    "        stack.push(2)\n",
    "        stack.push(3)\n",
    "        \n",
    "        self.assertEqual(stack.pop(), 3)\n",
    "        self.assertEqual(stack.pop(), 2)\n",
    "        self.assertEqual(stack.pop(), 1)\n",
    "        \n",
    "    def test_empty_stack(self):\n",
    "        stack = Stack()\n",
    "        self.assertRaises(IndexError, stack.peek)\n",
    "        self.assertRaises(IndexError, stack.pop)\n",
    "\n",
    "\n",
    "unittest.main(argv=[''], verbosity=2, exit=False);"
   ]
  }
 ],
 "metadata": {
  "kernelspec": {
   "display_name": "Python 3",
   "language": "python",
   "name": "python3"
  },
  "language_info": {
   "codemirror_mode": {
    "name": "ipython",
    "version": 3
   },
   "file_extension": ".py",
   "mimetype": "text/x-python",
   "name": "python",
   "nbconvert_exporter": "python",
   "pygments_lexer": "ipython3",
   "version": "3.7.3"
  }
 },
 "nbformat": 4,
 "nbformat_minor": 2
}
