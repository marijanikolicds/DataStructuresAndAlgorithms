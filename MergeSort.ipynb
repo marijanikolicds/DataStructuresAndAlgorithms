{
 "cells": [
  {
   "cell_type": "markdown",
   "metadata": {},
   "source": [
    "# Merge Sort\n",
    "\n",
    "The overall time complexity of the merge sort algorithm is O(NlogN), where N is the length of the input list. \n",
    "To calculate the complexity, we break it down to the following steps:\n",
    "\n",
    "We recursively divide the input list into two sublists, until a sublist with single element remains. \n",
    "This dividing step computes the midpoint of each of the sublists, which takes O(1) time. \n",
    "This step is repeated N times until a single element remains, therefore the total time complexity is O(N).\n",
    " \n",
    "Then, we repetitively merge the sublists, until one single list remains. \n",
    "There are a total of N elements on each level. Therefore, it takes O(N) time for the merging process to complete \n",
    "on each level. And since there are a total of logN levels, the overall complexity of the merge process is O(NlogN).\n",
    "\n",
    "Taking into account the complexity of the above two parts in the merge sort algorithm, \n",
    "we conclude that the overall time complexity of merge sort is O(NlogN).\n",
    "\n",
    "The space complexity of the merge sort algorithm is O(N), where N is the length of the input list, \n",
    "since we need to keep the sublists as well as the buffer to hold the merge results at each round of merge process.\n",
    "\n",
    "[Reference](https://leetcode.com/explore/learn/card/recursion-ii/470/divide-and-conquer/2868/)"
   ]
  },
  {
   "cell_type": "code",
   "execution_count": 2,
   "metadata": {},
   "outputs": [],
   "source": [
    "# Time: avg O(nlogn), worst O(nlogn)\n",
    "# Space: O(n)\n",
    "def merge_sort(arr):\n",
    "    if len(arr) <= 1:\n",
    "        return arr\n",
    "    \n",
    "    mid = len(arr) // 2\n",
    "    \n",
    "    left = merge_sort(arr[:mid])\n",
    "    right = merge_sort(arr[mid:])\n",
    "    return merge(left, right)"
   ]
  },
  {
   "cell_type": "code",
   "execution_count": 3,
   "metadata": {},
   "outputs": [],
   "source": [
    "def merge(left, right):\n",
    "    res = []\n",
    "    \n",
    "    l = 0\n",
    "    r = 0\n",
    "    \n",
    "    while l < len(left) and r < len(right):\n",
    "        if left[l] <= right[r]:\n",
    "            res.append(left[l])\n",
    "            l += 1\n",
    "        else:\n",
    "            res.append(right[r])\n",
    "            r += 1\n",
    "            \n",
    "    res.extend(left[l:])\n",
    "    res.extend(right[r:])\n",
    "    \n",
    "    return res"
   ]
  },
  {
   "cell_type": "markdown",
   "metadata": {},
   "source": [
    "## Test"
   ]
  },
  {
   "cell_type": "code",
   "execution_count": 11,
   "metadata": {},
   "outputs": [
    {
     "name": "stderr",
     "output_type": "stream",
     "text": [
      "test_merge_sort (__main__.Test) ... ok\n",
      "\n",
      "----------------------------------------------------------------------\n",
      "Ran 1 test in 0.001s\n",
      "\n",
      "OK\n"
     ]
    }
   ],
   "source": [
    "import unittest\n",
    "\n",
    "class Test(unittest.TestCase):\n",
    "    \n",
    "    def test_merge_sort(self):\n",
    "        arr = [3,10,5,1,2]\n",
    "        ans = merge_sort(arr)\n",
    "        self.assertEqual(ans, [1, 2, 3, 5, 10])\n",
    "        \n",
    "        arr = [3,10,5,1,2,1]\n",
    "        ans = merge_sort(arr)\n",
    "        self.assertEqual(ans, [1, 1, 2, 3, 5, 10])\n",
    "        \n",
    "        arr = [3,10,5,1,-2]\n",
    "        ans = merge_sort(arr)\n",
    "        self.assertEqual(ans, [-2, 1, 3, 5, 10])\n",
    "        \n",
    "        arr = [1,2,3,4,5]\n",
    "        ans = merge_sort(arr)\n",
    "        self.assertEqual(ans, [1,2,3,4,5])\n",
    "        \n",
    "        arr = [5,4,3,2,1]\n",
    "        ans = merge_sort(arr)\n",
    "        self.assertEqual(ans, [1,2,3,4,5])\n",
    "        \n",
    "        arr = []\n",
    "        ans = merge_sort(arr)\n",
    "        self.assertEqual(ans, [])\n",
    "\n",
    "unittest.main(argv=[''], verbosity=2, exit=False);"
   ]
  }
 ],
 "metadata": {
  "kernelspec": {
   "display_name": "Python 3",
   "language": "python",
   "name": "python3"
  },
  "language_info": {
   "codemirror_mode": {
    "name": "ipython",
    "version": 3
   },
   "file_extension": ".py",
   "mimetype": "text/x-python",
   "name": "python",
   "nbconvert_exporter": "python",
   "pygments_lexer": "ipython3",
   "version": "3.7.3"
  }
 },
 "nbformat": 4,
 "nbformat_minor": 2
}
