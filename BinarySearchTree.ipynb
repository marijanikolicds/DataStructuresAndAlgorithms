{
 "cells": [
  {
   "cell_type": "code",
   "execution_count": 336,
   "metadata": {},
   "outputs": [],
   "source": [
    "class Node:\n",
    "    def __init__(self, val = None, left = None, right = None, size = 1):\n",
    "        self.val = val\n",
    "        self.left = left\n",
    "        self.right = right\n",
    "        self.size = size"
   ]
  },
  {
   "cell_type": "code",
   "execution_count": 339,
   "metadata": {},
   "outputs": [],
   "source": [
    "def insert(root, val):\n",
    "    if root is None:\n",
    "        return Node(val)\n",
    "    \n",
    "    if val < root.val:\n",
    "        root.left = insert(root.left, val)\n",
    "    else:\n",
    "        root.right = insert(root.right, val)\n",
    "        \n",
    "    root.size = 1 + size(root.left) + size(root.right)\n",
    "    return root"
   ]
  },
  {
   "cell_type": "code",
   "execution_count": 340,
   "metadata": {},
   "outputs": [],
   "source": [
    "def inorder(node, q):\n",
    "    if node is None:\n",
    "        return\n",
    "    \n",
    "    inorder(node.left, q)\n",
    "    q.append(node.val)\n",
    "    inorder(node.right, q)"
   ]
  },
  {
   "cell_type": "code",
   "execution_count": 341,
   "metadata": {},
   "outputs": [],
   "source": [
    "def preorder(node, q):\n",
    "    if node is None:\n",
    "        return\n",
    "    \n",
    "    q.append(node.val)\n",
    "    preorder(node.left, q)\n",
    "    preorder(node.right, q)"
   ]
  },
  {
   "cell_type": "code",
   "execution_count": 342,
   "metadata": {},
   "outputs": [],
   "source": [
    "def preorder_iter(node):\n",
    "    if node is None:\n",
    "        return []\n",
    "    \n",
    "    ans = []\n",
    "    stack = [node]\n",
    "    while stack:\n",
    "        n = stack.pop()\n",
    "        ans.append(n.val)\n",
    "        if n.right:\n",
    "            stack.append(n.right)\n",
    "        if n.left:\n",
    "            stack.append(n.left)\n",
    "            \n",
    "    return ans        "
   ]
  },
  {
   "cell_type": "code",
   "execution_count": 343,
   "metadata": {},
   "outputs": [],
   "source": [
    "def postorder(node, q):\n",
    "    if node is None:\n",
    "        return\n",
    "    \n",
    "    postorder(node.left, q)\n",
    "    postorder(node.right, q)\n",
    "    q.append(node.val)"
   ]
  },
  {
   "cell_type": "code",
   "execution_count": 344,
   "metadata": {},
   "outputs": [],
   "source": [
    "def postorder_iter(node):\n",
    "    if node is None:\n",
    "        return []\n",
    "    \n",
    "    ans = []\n",
    "    stack = [node]\n",
    "    while stack:\n",
    "        n = stack.pop()\n",
    "        ans.append(n.val)\n",
    "        if n.left:\n",
    "            stack.append(n.left)\n",
    "        if n.right:\n",
    "            stack.append(n.right)\n",
    "            \n",
    "    return ans[::-1]"
   ]
  },
  {
   "cell_type": "code",
   "execution_count": 345,
   "metadata": {},
   "outputs": [],
   "source": [
    "def levelorder(node):\n",
    "    ans = []\n",
    "    q = [node]\n",
    "        \n",
    "    while q:\n",
    "        n = q.pop(0)\n",
    "        ans.append(n.val)\n",
    "        if n.left:\n",
    "            q.append(n.left)\n",
    "        if n.right:\n",
    "            q.append(n.right)\n",
    "            \n",
    "    return ans"
   ]
  },
  {
   "cell_type": "code",
   "execution_count": 346,
   "metadata": {},
   "outputs": [],
   "source": [
    "def size(node):\n",
    "    if node is None:\n",
    "        return 0\n",
    "    else:\n",
    "        return node.size"
   ]
  },
  {
   "cell_type": "code",
   "execution_count": 347,
   "metadata": {},
   "outputs": [],
   "source": [
    "def find_min(node):\n",
    "    curr = node\n",
    "    while curr.left:\n",
    "        curr = curr.left\n",
    "        \n",
    "    return curr"
   ]
  },
  {
   "cell_type": "code",
   "execution_count": 348,
   "metadata": {},
   "outputs": [],
   "source": [
    "def delete_min(node):\n",
    "    if node.left is None:\n",
    "        return node.right\n",
    "    node.left = delete_min(node.left)\n",
    "    return node"
   ]
  },
  {
   "cell_type": "code",
   "execution_count": 349,
   "metadata": {},
   "outputs": [],
   "source": [
    "def delete(node, val):\n",
    "    if node is None:\n",
    "        return None\n",
    "    \n",
    "    if val < node.val:\n",
    "        node.left = delete(node.left, val)\n",
    "    elif val > node.val:\n",
    "        node.right = delete(node.right, val)\n",
    "    else:\n",
    "        if node.left is None:\n",
    "            return node.right\n",
    "        elif node.right is None:\n",
    "            return node.left\n",
    "        else:\n",
    "            t = node\n",
    "            node = find_min(t.right)\n",
    "            node.left = t.left\n",
    "            node.right = delete_min(t.right)\n",
    "    node.size = size(node.left) + 1 + size(node.right)        \n",
    "    return node"
   ]
  },
  {
   "cell_type": "code",
   "execution_count": 350,
   "metadata": {},
   "outputs": [],
   "source": [
    "def contains(node, val):\n",
    "    if node is None:\n",
    "        return False\n",
    "    if node.val == val:\n",
    "        return True\n",
    "    elif val < node.val:\n",
    "        return contains(node.left, val)\n",
    "    else:\n",
    "        return contains(node.right, val)"
   ]
  },
  {
   "cell_type": "code",
   "execution_count": 351,
   "metadata": {},
   "outputs": [],
   "source": [
    "def rank(node, k):\n",
    "    if node is None:\n",
    "        return 0\n",
    "    \n",
    "    if node.val == k:\n",
    "        return size(node.left)\n",
    "    elif node.val > k:\n",
    "        return rank(node.left, k)\n",
    "    else:\n",
    "        return 1 + size(node.left) + rank(node.right, k)"
   ]
  },
  {
   "cell_type": "code",
   "execution_count": 352,
   "metadata": {},
   "outputs": [],
   "source": [
    "def range_count(node, lo, hi):\n",
    "    if contains(node, hi):\n",
    "        return rank(node, hi) - rank(node, lo) + 1\n",
    "    else:\n",
    "        return rank(node, hi) - rank(node, lo)"
   ]
  },
  {
   "cell_type": "code",
   "execution_count": 353,
   "metadata": {},
   "outputs": [],
   "source": [
    "def range_search(node, lo, hi):\n",
    "    def rs_util(node, lo, hi, q):\n",
    "        if node is None:\n",
    "            return\n",
    "        \n",
    "        if node.val >= lo and node.val <= hi:\n",
    "            q.append(node.val)\n",
    "        if lo < node.val:\n",
    "            rs_util(node.left, lo, hi, q)\n",
    "        if hi > node.val:\n",
    "            rs_util(node.right, lo, hi, q)\n",
    "    q = []\n",
    "    rs_util(node, lo, hi, q)\n",
    "    return q"
   ]
  }
 ],
 "metadata": {
  "kernelspec": {
   "display_name": "Python 3",
   "language": "python",
   "name": "python3"
  },
  "language_info": {
   "codemirror_mode": {
    "name": "ipython",
    "version": 3
   },
   "file_extension": ".py",
   "mimetype": "text/x-python",
   "name": "python",
   "nbconvert_exporter": "python",
   "pygments_lexer": "ipython3",
   "version": "3.7.3"
  }
 },
 "nbformat": 4,
 "nbformat_minor": 2
}
