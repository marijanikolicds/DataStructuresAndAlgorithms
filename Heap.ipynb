{
 "cells": [
  {
   "cell_type": "code",
   "execution_count": 1,
   "metadata": {},
   "outputs": [],
   "source": [
    "class Heap:\n",
    "    def __init__(self):\n",
    "        self.data = [0]\n",
    "        self.size = 0\n",
    "       \n",
    "    # Time: O(h), h = logn (height of heap tree)\n",
    "    def insert(self, val):\n",
    "        self.data.append(val)\n",
    "        self.size += 1\n",
    "        self.swim()\n",
    "        \n",
    "    def swim(self):\n",
    "        idx = self.size\n",
    "        while idx // 2 > 0:\n",
    "            if self.data[idx] < self.data[idx // 2]:\n",
    "                self.data[idx], self.data[idx // 2] = self.data[idx // 2], self.data[idx]\n",
    "            else: \n",
    "                return\n",
    "            idx = idx // 2\n",
    "            \n",
    "    # Time: O(h), h = logn (height of heap tree)      \n",
    "    def delete_min(self):\n",
    "        if self.size == 0:\n",
    "            raise IndexError('delete_min(): empty heap')\n",
    "        else:\n",
    "            min_item = self.data[1]\n",
    "            self.data[1] = self.data[self.size]\n",
    "            self.data.pop()\n",
    "            self.size -= 1\n",
    "            if self.size > 0:\n",
    "                self.sink()\n",
    "            return min_item\n",
    "        \n",
    "    def sink(self):\n",
    "        idx = 1\n",
    "        while 2 * idx < self.size:\n",
    "            left_idx = 2 * idx\n",
    "            right_idx = 2 * idx + 1\n",
    "            \n",
    "            child_idx = left_idx\n",
    "            if right_idx <= idx:\n",
    "                if self.data[right_idx] > self.data[left_idx]:\n",
    "                    child_idx = right_idx\n",
    "                    \n",
    "            if self.data[child_idx] < self.data[idx]:\n",
    "                self.data[child_idx], self.data[idx] = self.data[idx], self.data[child_idx]\n",
    "            else:\n",
    "                return\n",
    "                \n",
    "            idx = child_idx"
   ]
  }
 ],
 "metadata": {
  "kernelspec": {
   "display_name": "Python 3",
   "language": "python",
   "name": "python3"
  },
  "language_info": {
   "codemirror_mode": {
    "name": "ipython",
    "version": 3
   },
   "file_extension": ".py",
   "mimetype": "text/x-python",
   "name": "python",
   "nbconvert_exporter": "python",
   "pygments_lexer": "ipython3",
   "version": "3.7.3"
  }
 },
 "nbformat": 4,
 "nbformat_minor": 2
}
